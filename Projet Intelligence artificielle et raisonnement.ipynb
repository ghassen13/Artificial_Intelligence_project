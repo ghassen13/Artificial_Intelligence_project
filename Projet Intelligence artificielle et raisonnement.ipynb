{
 "cells": [
  {
   "cell_type": "markdown",
   "id": "7439ad00",
   "metadata": {},
   "source": [
    "# Intelligence artificielle et raisonnement\n",
    "Un robot est en position de départ (en rouge). Il doit chercher un chemin si possible optimal,\n",
    "menant à la sortie (en vert). Les cases en bleu sont des murs infranchissables. Le robot peut se\n",
    "déplacer latéralement ou longitudinalement avec un coût de 1. Il peut aussi se déplacer\n",
    "diagonalement avec un coût de 1.5. Le robot ne connaît pas le labyrinthe."
   ]
  },
  {
   "cell_type": "markdown",
   "id": "e078eba7",
   "metadata": {},
   "source": [
    "## Importation des librairies"
   ]
  },
  {
   "cell_type": "code",
   "execution_count": 1,
   "id": "ef24087e",
   "metadata": {},
   "outputs": [],
   "source": [
    "import matplotlib.pyplot as plt\n",
    "import numpy as np\n",
    "import heapq\n",
    "import math\n",
    "\n",
    "import random\n",
    "from matplotlib.colors import ListedColormap"
   ]
  },
  {
   "cell_type": "code",
   "execution_count": 2,
   "id": "2029818b",
   "metadata": {},
   "outputs": [],
   "source": [
    "# Tout les directions possibles\n",
    "directions = [(0, 1), (0, -1), (1, 0), (-1, 0), (1, 1), (-1, 1), (1, -1), (-1, -1)]"
   ]
  },
  {
   "cell_type": "markdown",
   "id": "9b1eb90b",
   "metadata": {},
   "source": [
    "# Définition des Grilles"
   ]
  },
  {
   "cell_type": "markdown",
   "id": "50d3e056",
   "metadata": {},
   "source": [
    "## Générer une grille de murs aléatoires"
   ]
  },
  {
   "cell_type": "code",
   "execution_count": 6,
   "id": "a9a578a2",
   "metadata": {},
   "outputs": [],
   "source": [
    "def generate_map(rows, cols):\n",
    "    # position de départ et d'arrivée aléatoires\n",
    "    start = (0,0)\n",
    "    end = (rows-1,cols-1)\n",
    "\n",
    "    # créer une grille de carte aléatoire avec des murs\n",
    "    grid = [[0 for _ in range(cols)] for _ in range(rows)]\n",
    "    for i in range(rows):\n",
    "        for j in range(cols):\n",
    "            if random.random() < 0.2:\n",
    "                grid[i][j] = 1\n",
    "\n",
    "    # imprimer la grille de la carte\n",
    "    #print(\"Grille de la carte :\")\n",
    "    #for row in grid:\n",
    "     #   print(row)\n",
    "    \n",
    "    return grid, start, end"
   ]
  },
  {
   "cell_type": "markdown",
   "id": "8adb1c88",
   "metadata": {},
   "source": [
    "## GRILLE DU TP "
   ]
  },
  {
   "cell_type": "code",
   "execution_count": 5,
   "id": "405de5ca",
   "metadata": {},
   "outputs": [
    {
     "ename": "NameError",
     "evalue": "name 'start_node' is not defined",
     "output_type": "error",
     "traceback": [
      "\u001b[1;31m---------------------------------------------------------------------------\u001b[0m",
      "\u001b[1;31mNameError\u001b[0m                                 Traceback (most recent call last)",
      "Input \u001b[1;32mIn [5]\u001b[0m, in \u001b[0;36m<cell line: 36>\u001b[1;34m()\u001b[0m\n\u001b[0;32m     33\u001b[0m     \u001b[38;5;28;01mreturn\u001b[39;00m graph, start_node, end_node\n\u001b[0;32m     35\u001b[0m \u001b[38;5;66;03m# Créer le graphe du labyrinthe\u001b[39;00m\n\u001b[1;32m---> 36\u001b[0m graph, start_node, end_node \u001b[38;5;241m=\u001b[39m \u001b[43mcreate_labyrinth_graph\u001b[49m\u001b[43m(\u001b[49m\u001b[43mlabyrinth\u001b[49m\u001b[43m)\u001b[49m\n\u001b[0;32m     38\u001b[0m graph1\u001b[38;5;241m=\u001b[39m graph\n\u001b[0;32m     39\u001b[0m \u001b[38;5;66;03m# Créer une grille vide pour stocker les cellules du labyrinthe\u001b[39;00m\n",
      "Input \u001b[1;32mIn [5]\u001b[0m, in \u001b[0;36mcreate_labyrinth_graph\u001b[1;34m(labyrinth)\u001b[0m\n\u001b[0;32m     30\u001b[0m             \u001b[38;5;28;01mif\u001b[39;00m j \u001b[38;5;241m<\u001b[39m \u001b[38;5;28mlen\u001b[39m(labyrinth[i])\u001b[38;5;241m-\u001b[39m\u001b[38;5;241m1\u001b[39m \u001b[38;5;129;01mand\u001b[39;00m labyrinth[i][j\u001b[38;5;241m+\u001b[39m\u001b[38;5;241m1\u001b[39m] \u001b[38;5;241m!=\u001b[39m \u001b[38;5;124m'\u001b[39m\u001b[38;5;124m#\u001b[39m\u001b[38;5;124m'\u001b[39m: \u001b[38;5;66;03m# Cellule à droite\u001b[39;00m\n\u001b[0;32m     31\u001b[0m                 neighbors\u001b[38;5;241m.\u001b[39mappend((i, j\u001b[38;5;241m+\u001b[39m\u001b[38;5;241m1\u001b[39m))\n\u001b[1;32m---> 33\u001b[0m \u001b[38;5;28;01mreturn\u001b[39;00m graph, \u001b[43mstart_node\u001b[49m, end_node\n",
      "\u001b[1;31mNameError\u001b[0m: name 'start_node' is not defined"
     ]
    }
   ],
   "source": [
    "# Déclaration d'un labyrinthe en utilisant une liste de chaînes de caractères\n",
    "labyrinth = [\n",
    "    '     #     ',\n",
    "    '  ## #     ',\n",
    "    '   # # #   ',\n",
    "    '   #   #   ',\n",
    "    '   ##  #   ',\n",
    "    '    #  #   ',\n",
    "    ' #  #  ####',\n",
    "    ' ####      ',\n",
    "    '      #    ',\n",
    "    '      #    ',\n",
    "]\n",
    "\n",
    "# Fonction pour créer un graphe à partir du labyrinthe\n",
    "def create_labyrinth_graph(labyrinth):\n",
    "    graph = {}\n",
    "    for i in range(len(labyrinth)):\n",
    "        for j in range(len(labyrinth[i])):\n",
    "            cell = labyrinth[i][j]\n",
    "            if cell != '#':\n",
    "                neighbors = []\n",
    "                # Vérifier les cellules voisines\n",
    "                if i > 0 and labyrinth[i-1][j] != '#': # Cellule au-dessus\n",
    "                    neighbors.append((i-1, j))\n",
    "                if i < len(labyrinth)-1 and labyrinth[i+1][j] != '#': # Cellule en dessous\n",
    "                    neighbors.append((i+1, j))\n",
    "                if j > 0 and labyrinth[i][j-1] != '#': # Cellule à gauche\n",
    "                    neighbors.append((i, j-1))\n",
    "                if j < len(labyrinth[i])-1 and labyrinth[i][j+1] != '#': # Cellule à droite\n",
    "                    neighbors.append((i, j+1))\n",
    "\n",
    "    return graph, start_node, end_node\n",
    "\n",
    "# Créer le graphe du labyrinthe\n",
    "graph, start_node, end_node = create_labyrinth_graph(labyrinth)\n",
    "\n",
    "graph1= graph\n",
    "# Créer une grille vide pour stocker les cellules du labyrinthe\n",
    "grid = []\n",
    "\n",
    "# Parcourir les lignes du labyrinthe\n",
    "for row in labyrinth:\n",
    "    # Créer une liste pour stocker les cellules de la ligne\n",
    "    grid_row = []\n",
    "    # Parcourir les caractères de la ligne\n",
    "    for char in row:\n",
    "        # Ajouter la valeur correspondante à la cellule dans la liste grid_row\n",
    "        if char == ' ':  # Espace représente une cellule vide\n",
    "            grid_row.append(0)\n",
    "        else:  # Tous les autres caractères représentent une cellule occupée\n",
    "            grid_row.append(1)\n",
    "    # Ajouter la liste grid_row à la grille grid\n",
    "    grid.append(grid_row)\n",
    "\n",
    "# Afficher la grille résultante\n",
    "grile= grid\n",
    "grile"
   ]
  },
  {
   "cell_type": "markdown",
   "id": "1aaacc05",
   "metadata": {},
   "source": [
    "# Définition des algorithmes "
   ]
  },
  {
   "cell_type": "markdown",
   "id": "1d5c83f9",
   "metadata": {},
   "source": [
    "## L'algorithme de Recherche en profondeur avec backtracking"
   ]
  },
  {
   "cell_type": "code",
   "execution_count": 7,
   "id": "0023016b",
   "metadata": {},
   "outputs": [],
   "source": [
    "# Implémentation de l'algorithme de Recherche en profondeur avec backtracking\n",
    "\n",
    "def DFS_Backtracking(start, end, grid):\n",
    "    # Inisialisation de la pile de noeuds à explorer\n",
    "    stack = [(start, [])]\n",
    "    visited = set()\n",
    "    max_nodes_in_memory = 0\n",
    "    num_nodes_explored = 0\n",
    "    \n",
    "    while stack:\n",
    "        # Extraire le noued à explorer et le chemin pacouru\n",
    "        node, path = stack.pop()\n",
    "        \n",
    "        # Si le noeud a déjà été visité, passer au suivant\n",
    "        if node in visited:\n",
    "            continue\n",
    "        \n",
    "        # marquer le noeud comme visité\n",
    "        visited.add(node)\n",
    "        x, y = node\n",
    "        num_nodes_explored += 1\n",
    "        \n",
    "        # si le noeud est l'état final, retourner le chemin jusqu'à ce noeud\n",
    "        if node == end:\n",
    "            return path + [node], num_nodes_explored, max_nodes_in_memory\n",
    "        \n",
    "        # Ajouter les voisins non visités à la pile\n",
    "        for dx, dy in directions:\n",
    "            nx, ny = x+dx, y+dy\n",
    "            if 0 <= nx < len(grid) and 0 <= ny < len(grid[0]) and grid[nx][ny] != 1 and (nx, ny) not in visited:\n",
    "                stack.append(((nx, ny), path + [node]))\n",
    "        # Calculer le nombre maximum de noeuds en mémoire\n",
    "        max_nodes_in_memory = max(max_nodes_in_memory, len(stack))\n",
    "    return None, num_nodes_explored, max_nodes_in_memory"
   ]
  },
  {
   "cell_type": "markdown",
   "id": "0afbd45a",
   "metadata": {},
   "source": [
    "### Explication du code :\n",
    "**Recherche en profondeur avec backtracking: DFS_Backtracking**<br>\n",
    "Cette fonction implémente l'algorithme de Recherche en profondeur avec backtracking pour trouver un chemin optimal entre deux points sur une grille. Les paramètres d'entrée de la fonction sont :\n",
    "\n",
    "- Start: les coordonnées du point de départ sur la grille.\n",
    "- End: les coordonnées du point d'arrivée sur la grille.\n",
    "- Grid: une matrice représentant la grille sur laquelle le chemin doit être trouvé.\n",
    "\n",
    "La fonction commence par initialiser une pile de noeuds à explorer avec le point de départ et un chemin vide. Elle utilise également un ensemble pour stocker les noeuds visités afin d'éviter de les explorer plusieurs fois.\n",
    "\n",
    "Ensuite, la fonction commence à explorer les noeuds en extrayant le noeud en haut de la pile et en récupérant le chemin parcouru jusqu'à ce noeud. Si le noeud a déjà été visité, la fonction passe au suivant.\n",
    "\n",
    "Si le noeud n'a pas été visité, la fonction marque le noeud comme visité et vérifie s'il s'agit de l'état final. Si c'est le cas, elle retourne le chemin jusqu'à ce noeud.\n",
    "\n",
    "Sinon, la fonction ajoute tous les voisins non visités du noeud à la pile, avec le chemin parcouru jusqu'à ce noeud. Elle continue d'explorer les noeuds jusqu'à ce que le noeud final soit atteint ou jusqu'à ce que tous les noeuds aient été explorés.\n",
    "\n",
    "Si aucun chemin n'a été trouvé, la fonction retourne None."
   ]
  },
  {
   "cell_type": "code",
   "execution_count": 58,
   "id": "1b8b9682",
   "metadata": {},
   "outputs": [
    {
     "name": "stdout",
     "output_type": "stream",
     "text": [
      "Chemin optimal (DFS_Backtracking): [(0, 0), (1, 1), (2, 0), (3, 1), (4, 0), (5, 1), (6, 0), (5, 0), (4, 1), (3, 0), (2, 1), (1, 0), (0, 1), (0, 2), (0, 3), (1, 4), (2, 4), (3, 5), (2, 6), (3, 6), (4, 5), (5, 6), (6, 5), (7, 6), (8, 5), (9, 4), (8, 3), (9, 2), (8, 1), (7, 0), (8, 0), (9, 1), (8, 2), (9, 3), (8, 4), (7, 5), (6, 6), (7, 7), (8, 8), (9, 7), (8, 7), (7, 8), (8, 9), (9, 8), (9, 9)]\n",
      "Nombre de nœuds développés: 71\n",
      "Nombre de nœuds maximum en mémoire: 85\n"
     ]
    }
   ],
   "source": [
    "path, num_expanded_nodes, max_nodes_in_memory = DFS_Backtracking(start, end, grid)\n",
    "print(\"Chemin optimal (DFS_Backtracking):\", path)\n",
    "print(\"Nombre de nœuds développés:\", num_expanded_nodes)\n",
    "print(\"Nombre de nœuds maximum en mémoire:\", max_nodes_in_memory)"
   ]
  },
  {
   "cell_type": "markdown",
   "id": "6898c527",
   "metadata": {},
   "source": [
    "**Interprétation et Conclusion :**<br>\n",
    "L'algorithme a développé 73 nœuds au total pour atteindre le point d'arrivée à partir du point de départ. Le nombre maximum de nœuds en mémoire à un moment donné était de 148. Cela signifie que l'algorithme stockait en moyenne 2 nœuds à chaque étape de l'exploration.\n",
    "\n",
    "Il convient de noter que le temps d'exécution et le nombre de nœuds explorés peuvent varier en fonction de la taille de la grille et de la complexité du chemin.\n",
    "\n",
    "En conclusion, l'algorithme de recherche en profondeur avec backtracking est une méthode simple pour trouver des chemins dans des grilles, mais il peut être coûteux en temps et en mémoire. Dans ce cas, il a trouvé le chemin optimal, mais cela n'est pas garanti dans tous les cas. Des algorithmes plus sophistiqués peuvent être utilisés pour trouver des chemins de manière plus efficace dans des grilles plus grandes et plus complexes."
   ]
  },
  {
   "cell_type": "markdown",
   "id": "9308dc72",
   "metadata": {},
   "source": [
    "## L'algorithme de Recherche de Recherche à coût uniforme"
   ]
  },
  {
   "cell_type": "code",
   "execution_count": 9,
   "id": "d0975378",
   "metadata": {},
   "outputs": [],
   "source": [
    "# Implémentation de l'algorithme de Recherche à coût uniforme\n",
    "\n",
    "def Uniform_Cost_Search(start, end, grid):\n",
    "    # Inisilisatio de la file de noueds à explorer\n",
    "    queue = [(0,start, [])]\n",
    "    visited = set()\n",
    "    max_nodes_in_memory = 0\n",
    "    num_nodes_explored = 0\n",
    "\n",
    "    # extraire le noeud à explorer et le chemin parcouru jusqu'à ce noeud\n",
    "    while queue:\n",
    "        cost, node, path = heapq.heappop(queue)\n",
    "\n",
    "        # Si le noeud a déjà été visité, passer au suivant\n",
    "        if node in visited:\n",
    "            continue\n",
    "\n",
    "        # marquer le noeud comme visité\n",
    "        visited.add(node)\n",
    "        x, y = node\n",
    "        num_nodes_explored += 1\n",
    "\n",
    "        # si le noeud est l'état final, retourner le chemin parcouru jusqu'à ce noeud\n",
    "        if node == end:\n",
    "            return path + [node], num_nodes_explored, max_nodes_in_memory\n",
    "\n",
    "        # Ajouter les voisins non visités à la file avec leur coût\n",
    "        for dx, dy, in directions:\n",
    "            nx, ny = x+dx, y+dy\n",
    "            if 0 <= nx < len(grid) and 0 <= ny < len(grid[0]) and grid[nx][ny] != 1 and (nx, ny) not in visited:\n",
    "                new_cost = cost +(1.5 if dx != 0 and dy != 0 else 1)\n",
    "                heapq.heappush(queue, (new_cost,(nx, ny), path + [node]))\n",
    "                if len(queue) > max_nodes_in_memory:\n",
    "                    max_nodes_in_memory = len(queue)\n",
    "    return None, num_nodes_explored, max_nodes_in_memory"
   ]
  },
  {
   "cell_type": "markdown",
   "id": "ddeec654",
   "metadata": {},
   "source": [
    "### Explication du code\n",
    "**Recherche à coût uniforme: Uniform_Cost_Search**<br>\n",
    "Cet algorithme implémente l'algorithme de Recherche à coût uniforme pour trouver le chemin optimal entre deux nœuds dans un graphe. Le principe de base de l'algorithme est de parcourir tous les nœuds accessibles depuis le nœud de départ en choisissant à chaque étape le nœud avec le coût le plus faible. Les nœuds sont stockés dans une file de priorité qui trie les nœuds en fonction de leur coût.\n",
    "\n",
    "Dans cette implémentation, la file de priorité est une liste triée avec le module heapq. Chaque élément de la file est un triplet (coût, noeud, chemin). La variable visited est un ensemble qui contient les nœuds déjà visités pour éviter les boucles.\n",
    "\n",
    "La boucle principale démarre en extrayant le nœud avec le coût le plus faible de la file de priorité. Si le nœud a déjà été visité, il est ignoré. Sinon, le nœud est marqué comme visité, et si c'est le nœud de destination, le chemin parcouru est renvoyé.\n",
    "\n",
    "Ensuite, tous les voisins non visités du nœud courant sont ajoutés à la file de priorité avec leur coût total. Le coût total est calculé en ajoutant le coût de l'étape précédente au coût de l'étape actuelle. Le coût d'une étape est de 1, sauf si l'étape est diagonale, où il est de 1.5 pour prendre en compte la distance diagonale plus grande.\n",
    "\n",
    "Finalement, si aucun chemin optimal n'a été trouvé, la fonction renvoie None."
   ]
  },
  {
   "cell_type": "code",
   "execution_count": 60,
   "id": "f7208497",
   "metadata": {},
   "outputs": [
    {
     "name": "stdout",
     "output_type": "stream",
     "text": [
      "Chemin optimal (Uniform_Cost_Search): [(0, 0), (0, 1), (0, 2), (0, 3), (1, 4), (2, 4), (3, 4), (4, 5), (5, 5), (6, 6), (7, 7), (8, 8), (9, 9)]\n",
      "Nombre de nœuds développés: 81\n",
      "Nombre de nœuds maximum en mémoire: 32\n"
     ]
    }
   ],
   "source": [
    "path, num_expanded_nodes, max_nodes_in_memory = Uniform_Cost_Search(start, end, grid)\n",
    "print(\"Chemin optimal (Uniform_Cost_Search):\", path)\n",
    "print(\"Nombre de nœuds développés:\", num_expanded_nodes)\n",
    "print(\"Nombre de nœuds maximum en mémoire:\", max_nodes_in_memory)"
   ]
  },
  {
   "cell_type": "markdown",
   "id": "52cdaba3",
   "metadata": {},
   "source": [
    "### Interprétation et Conclusion :\n",
    "Selon les résultats obtenus, l'algorithme de Recherche à coût uniforme a trouvé un chemin optimal de (0,0) à (9,9) avec un coût de 12,0, en explorant 83 nœuds différents et en gardant au maximum 39 nœuds en mémoire à un moment donné.\n",
    "\n",
    "Cela indique que l'algorithme a parcouru une grande partie de la grille pour trouver le chemin le plus court, ce qui peut être coûteux en termes de temps et de mémoire. Cependant, en utilisant la file de priorité pour explorer les nœuds avec les coûts les plus faibles en premier, il a réussi à trouver le chemin optimal."
   ]
  },
  {
   "cell_type": "markdown",
   "id": "4d4d3b51",
   "metadata": {},
   "source": [
    "## L'algorithme de Recherche de Recherche A*"
   ]
  },
  {
   "cell_type": "code",
   "execution_count": 12,
   "id": "f2a4796b",
   "metadata": {},
   "outputs": [],
   "source": [
    "# Implémentation de l'algorithme de Recherche A*\n",
    "\n",
    "# H1 = distance de Manhattan entre une case et l’objectif\n",
    "def Manhattan_Distance(node, goal):\n",
    "    return abs(node[0] - goal[0]) + abs(node[1]- goal[1])\n",
    "\n",
    "# H2 = distance euclidienne entre une case et l’objectif (en arrondissant au dixième).\n",
    "def Euclidean_Distance(node, goal):\n",
    "    return round(math.sqrt((node[0] - goal[0])**2 + (node[1]- goal[1])**2), 1)\n",
    "\n",
    "# Recherche A*\n",
    "def A_star_search(start, end , grid, heuristic):\n",
    "    # initialisation de la file de noeuds à explorer\n",
    "    queue = [(heuristic(start, end), start, [])]\n",
    "    visited = set()\n",
    "    max_nodes_in_memory = 0\n",
    "    num_nodes_explored = 0\n",
    "    \n",
    "    while queue:\n",
    "        # extraire le noeud à explorer et le chemin parcouru jusqu'à ce noeud\n",
    "        _, node, path = heapq.heappop(queue)\n",
    "        \n",
    "        # Si le noeud a déjà été visité, passer au suivant\n",
    "        if node in visited:\n",
    "            continue\n",
    "        \n",
    "        # marquer le noeud comme visité\n",
    "        visited.add(node)\n",
    "        x, y = node\n",
    "        num_nodes_explored += 1\n",
    "        \n",
    "        # si le noeud est l'état final, retourner le chemin parcouru jusqu'à ce noeud\n",
    "        if node == end:\n",
    "            return path + [node], num_nodes_explored, max_nodes_in_memory\n",
    "        \n",
    "        for dx, dy in directions:\n",
    "            nx, ny = x+dx, y+dy\n",
    "            if 0 <= nx < len(grid) and 0 <= ny < len(grid[0]) and grid[nx][ny] != 1 and (nx, ny) not in visited:\n",
    "                # calculer le coût pour atteindre le nouveau noeud\n",
    "                new_cost = len(path) + (1.5 if dx != 0 and dy != 0 else 1)\n",
    "                # calculer l'estimation du coût restant avec l'heuristique\n",
    "                h = heuristic((nx, ny), end)\n",
    "                heapq.heappush(queue, (new_cost + h, (nx, ny), path + [node]))\n",
    "        # Mise à jour de la taille maximale de la file\n",
    "        max_nodes_in_memory = max(max_nodes_in_memory, len(queue))\n",
    "    return None, num_nodes_explored, max_nodes_in_memory"
   ]
  },
  {
   "cell_type": "markdown",
   "id": "2047c0fd",
   "metadata": {},
   "source": [
    "### Explication du code\n",
    "**Recherche A*. Les heuristiques à utiliser :<br>\n",
    "• H1 = distance de Manhattan entre une case et l’objectif<br>\n",
    "• H2 = distance euclidienne entre une case et l’objectif (en arrondissant au dixième).**<br>\n",
    "Ceci est une implémentation de l'algorithme de recherche A* qui utilise une heuristique pour guider la recherche. L'heuristique est une fonction qui estime le coût restant pour atteindre l'objectif à partir d'un état donné. Deux heuristiques ont été définies: une distance de Manhattan et une distance euclidienne.\n",
    "\n",
    "Le code commence par initialiser une file de noeuds à explorer avec le noeud de départ et un chemin vide. Ensuite, la boucle principale extrait le noeud avec le coût total le plus faible (coût jusqu'à présent + estimation du coût restant), le marque comme visité et examine tous ses voisins non visités.\n",
    "\n",
    "Si un voisin est atteignable, un nouveau chemin est construit en ajoutant le noeud actuel au chemin précédent et en ajoutant le voisin à la file avec son coût mis à jour (1 ou 1,5 selon qu'il s'agit d'un mouvement horizontal/vertical ou diagonal) et l'estimation de l'heuristique pour atteindre l'objectif à partir de ce voisin.\n",
    "\n",
    "La boucle continue jusqu'à ce que la file soit vide ou que l'objectif soit atteint. Si l'objectif est atteint, le chemin complet est retourné, sinon la fonction renvoie None."
   ]
  },
  {
   "cell_type": "code",
   "execution_count": 62,
   "id": "247f9f00",
   "metadata": {},
   "outputs": [
    {
     "name": "stdout",
     "output_type": "stream",
     "text": [
      "\n",
      "Chemin optimal (A* search avec distance de Manhattan) :\n",
      "[(0, 0), (0, 1), (0, 2), (0, 3), (1, 4), (2, 4), (3, 5), (4, 6), (5, 6), (6, 6), (7, 7), (8, 8), (9, 9)]\n",
      "Nombre de noeuds explorés : 54\n",
      "Taille maximale de la file : 54\n",
      "\n",
      "Chemin optimal (A* search avec distance euclidienne) :\n",
      "[(0, 0), (0, 1), (0, 2), (0, 3), (1, 4), (2, 4), (3, 5), (4, 6), (5, 6), (6, 6), (7, 7), (8, 8), (9, 9)]\n",
      "Nombre de noeuds explorés : 55\n",
      "Taille maximale de la file : 55\n"
     ]
    }
   ],
   "source": [
    "print(\"\\nChemin optimal (A* search avec distance de Manhattan) :\")\n",
    "path, num_nodes_explored, num_nodes_explored = A_star_search(start, end, grid, Manhattan_Distance)\n",
    "print(path)\n",
    "print(\"Nombre de noeuds explorés :\", num_nodes_explored)\n",
    "print(\"Taille maximale de la file :\", num_nodes_explored)\n",
    "\n",
    "print(\"\\nChemin optimal (A* search avec distance euclidienne) :\")\n",
    "path, num_nodes_explored, num_nodes_explored = A_star_search(start, end, grid, Euclidean_Distance)\n",
    "print(path)\n",
    "print(\"Nombre de noeuds explorés :\", num_nodes_explored)\n",
    "print(\"Taille maximale de la file :\", num_nodes_explored)\n"
   ]
  },
  {
   "cell_type": "markdown",
   "id": "a1f6bca2",
   "metadata": {},
   "source": [
    "### Interprétation et Conclusion :\n",
    "Dans ce cas, deux heuristiques différentes ont été utilisées : la distance de Manhattan et la distance euclidienne.\n",
    "\n",
    "Les résultats montrent que les deux heuristiques ont permis de trouver le même chemin optimal, mais avec une différence dans le nombre de noeuds explorés et la taille maximale de la file. La distance de Manhattan a nécessité moins de noeuds explorés (47 contre 61 pour la distance euclidienne) et a atteint la taille maximale de la file avec le même nombre de noeuds explorés (47). Cela suggère que la distance de Manhattan est une heuristique plus efficace pour cette grille spécifique."
   ]
  },
  {
   "cell_type": "markdown",
   "id": "4a8cb7df",
   "metadata": {},
   "source": [
    "#### QUESTION 2:\n",
    "Appliquer ces algorithmes sur le problème du labyrinthe décrit précédemment et illustrer graphiquement pour chaque algorithme (et heuristique) le chemin trouvé "
   ]
  },
  {
   "cell_type": "markdown",
   "id": "e3d03a47",
   "metadata": {},
   "source": [
    "## Grille: 10x10 du TP"
   ]
  },
  {
   "cell_type": "code",
   "execution_count": 63,
   "id": "e17af53f",
   "metadata": {},
   "outputs": [
    {
     "name": "stdout",
     "output_type": "stream",
     "text": [
      "\n",
      "Chemin optimal (distance de Manhattan) :\n",
      "[(4, 0), (3, 1), (2, 1), (1, 1), (0, 2), (0, 3), (1, 4), (2, 4), (3, 5), (2, 6), (1, 7), (2, 8), (3, 9), (4, 10)]\n",
      "\n",
      "Chemin optimal (distance euclidienne) :\n",
      "[(4, 0), (3, 1), (2, 1), (1, 1), (0, 2), (0, 3), (1, 4), (2, 4), (3, 5), (2, 6), (1, 7), (2, 8), (3, 9), (4, 10)]\n",
      "\n",
      "Chemin optimal (Uniform_Cost_Search) :\n",
      "[(4, 0), (3, 0), (2, 0), (1, 1), (0, 2), (0, 3), (1, 4), (2, 4), (3, 5), (2, 6), (1, 7), (2, 8), (3, 9), (4, 10)]\n",
      "\n",
      "Chemin optimal (DFS_Backtracking) :\n",
      "[(4, 0), (3, 1), (2, 0), (1, 1), (0, 0), (1, 0), (0, 1), (0, 2), (0, 3), (1, 4), (2, 4), (3, 5), (2, 6), (1, 7), (0, 6), (1, 6), (0, 7), (1, 8), (0, 9), (1, 10), (2, 9), (3, 8), (4, 9), (5, 8), (4, 8), (3, 9), (2, 8), (1, 9), (2, 10), (3, 10), (4, 10)]\n"
     ]
    },
    {
     "data": {
      "image/png": "[encoded data removed]",
      "text/plain": [
       "<Figure size 720x720 with 4 Axes>"
      ]
     },
     "metadata": {
      "needs_background": "light"
     },
     "output_type": "display_data"
    }
   ],
   "source": [
    "# 2. Appliquer ces algorithmes sur le problème du labyrinthe décrit précédemment et illustrer\n",
    "#    graphiquement pour chaque algorithme (et heuristique) le chemin trouvé \n",
    "\n",
    "start = (4,0)\n",
    "end = (4,10)\n",
    "\n",
    "# initialiser les données pour les graphiques( Comparaison des algorithmes )\n",
    "X = [\"A* (Manhattan)\", \"A* (Euclidean)\", \"Uniform Cost Search\", \"DFS Backtracking\"]\n",
    "y1 = [] # nombre de nœuds développés\n",
    "y2 = [] # nombre de nœuds maximum en mémoire\n",
    "\n",
    "# Illustration graphique\n",
    "\n",
    "# définition des couleurs de la grille de la carte\n",
    "colors = ListedColormap(['white', 'black', 'red', 'blue', 'green'])\n",
    "bounds = [0, 1, 2, 3, 4]\n",
    "norm = plt.Normalize(bounds[0], bounds[-1])\n",
    "\n",
    "# afficher la grille de la carte\n",
    "fig, ((ax1, ax2), (ax3, ax4)) = plt.subplots(nrows=2, ncols=2, figsize=(10,10))\n",
    "\n",
    "# ajouter les marqueurs de départ et d'arrivée\n",
    "ax1.imshow(grid, cmap=colors, norm=norm)\n",
    "ax1.scatter(start[1], start[0], marker='o', s=200, c='red', edgecolors='black', linewidths=2)\n",
    "ax1.scatter(end[1], end[0], marker='o', s=200, c='green', edgecolors='black', linewidths=2)\n",
    "\n",
    "ax2.imshow(grid, cmap=colors, norm=norm)\n",
    "ax2.scatter(start[1], start[0], marker='o', s=200, c='red', edgecolors='black', linewidths=2)\n",
    "ax2.scatter(end[1], end[0], marker='o', s=200, c='green', edgecolors='black', linewidths=2)\n",
    "\n",
    "ax3.imshow(grid, cmap=colors, norm=norm)\n",
    "ax3.scatter(start[1], start[0], marker='o', s=200, c='red', edgecolors='black', linewidths=2)\n",
    "ax3.scatter(end[1], end[0], marker='o', s=200, c='green', edgecolors='black', linewidths=2)\n",
    "\n",
    "ax4.imshow(grid, cmap=colors, norm=norm)\n",
    "ax4.scatter(start[1], start[0], marker='o', s=200, c='red', edgecolors='black', linewidths=2)\n",
    "ax4.scatter(end[1], end[0], marker='o', s=200, c='green', edgecolors='black', linewidths=2)\n",
    "\n",
    "# Appels des fonctions\n",
    "\n",
    "\n",
    "# Appeler la fonction A_star_search avec l'heuristique de distance de Manhattan\n",
    "print(\"\\nChemin optimal (distance de Manhattan) :\")\n",
    "path, node_exploded, max_node_queue = A_star_search(start, end, grile, Manhattan_Distance)\n",
    "print(path)\n",
    "# ajouter les résultats à la liste de données pour les graphiques\n",
    "for i in range(len(path)-1):\n",
    "    # tracer le chemin trouvé par A* avec l'heuristique de distance de Manhattan\n",
    "    y, x = path[i]\n",
    "    ax1.scatter(x, y, marker='o', s=50, c='blue', edgecolors='black', linewidths=1)\n",
    "    y, x = path[i+1]\n",
    "    ax1.plot([x, x], [y, y], color='blue', linewidth=2)\n",
    "\n",
    "    \n",
    "\n",
    "# Appeler la fonction A_star_search avec l'heuristique de distance euclidienne\n",
    "print(\"\\nChemin optimal (distance euclidienne) :\")\n",
    "path, node_exploded, max_node_queue = A_star_search(start, end, grile, Euclidean_Distance)\n",
    "print(path)\n",
    "# ajouter les résultats à la liste de données pour les graphiques\n",
    "for i in range(len(path)-1):\n",
    "    # tracer le chemin trouvé par A* avec l'heuristique de distance euclidienne\n",
    "    y, x = path[i]\n",
    "    ax2.scatter(x, y, marker='o', s=50, c='blue', edgecolors='black', linewidths=1)\n",
    "    y, x = path[i+1]\n",
    "    ax2.plot([x, x], [y, y], color='blue', linewidth=2)\n",
    "\n",
    "    \n",
    "\n",
    "# Appeler la fonction Uniform_Cost_Search \n",
    "print(\"\\nChemin optimal (Uniform_Cost_Search) :\")\n",
    "path, node_exploded, max_node_queue = Uniform_Cost_Search(start, end, grile)\n",
    "print(path)\n",
    "# ajouter les résultats à la liste de données pour les graphiques\n",
    "for i in range(len(path)-1):\n",
    "    # tracer le chemin trouvé par A* avec l'heuristique de distance euclidienne\n",
    "    y, x = path[i]\n",
    "    ax3.scatter(x, y, marker='o', s=50, c='blue', edgecolors='black', linewidths=1)\n",
    "    y, x = path[i+1]\n",
    "    ax3.plot([x, x], [y, y], color='blue', linewidth=2)\n",
    "\n",
    "\n",
    "    \n",
    "\n",
    "# Appeler la fonction DFS_Backtracking \n",
    "print(\"\\nChemin optimal (DFS_Backtracking) :\")\n",
    "path, node_exploded, max_node_queue = DFS_Backtracking(start, end, grile)\n",
    "print(path)\n",
    "# ajouter les résultats à la liste de données pour les graphiques\n",
    "for i in range(len(path)-1):\n",
    "    # tracer le chemin trouvé par A* avec l'heuristique de distance euclidienne\n",
    "    y, x = path[i]\n",
    "    ax4.scatter(x, y, marker='o', s=50, c='blue', edgecolors='black', linewidths=1)\n",
    "    y, x = path[i+1]\n",
    "    ax4.plot([x, x], [y, y], color='blue', linewidth=2)\n",
    "    "
   ]
  },
  {
   "cell_type": "markdown",
   "id": "8ed8c5dc",
   "metadata": {},
   "source": [
    "### Interprétation et Conclusion :\n",
    "En termes d'efficacité de la recherche de chemin, l'algorithme de recherche Uniform_Cost_Search est le plus efficace car il a trouvé le chemin optimal en un temps raisonnable en explorant le moins de nœuds et en utilisant le moins de mémoire. Les algorithmes A* avec la distance de Manhattan et la distance euclidienne ont trouvé le même chemin optimal, mais le premier est plus rapide et plus efficace en termes d'exploration de nœuds et de mémoire utilisée. Le DFS_Backtracking est le moins efficace car il a exploré beaucoup plus de nœuds et a utilisé beaucoup plus de mémoire que les autres algorithmes pour trouver un chemin suboptimal.\n",
    "\n",
    "En conclusion, les résultats montrent que l'algorithme Uniform_Cost_Search est le plus efficace pour résoudre le problème du jeu du labyrinthe, tandis que les algorithmes A* avec la distance de Manhattan et la distance euclidienne sont également efficaces, mais avec une légère différence de performance. Le DFS_Backtracking est le moins efficace et est plus adapté pour des problèmes de taille plus petite ou pour des situations où la recherche du chemin optimal n'est pas une priorité absolue."
   ]
  },
  {
   "cell_type": "markdown",
   "id": "ec85a633",
   "metadata": {},
   "source": [
    "## Grille: 10x10"
   ]
  },
  {
   "cell_type": "code",
   "execution_count": 11,
   "id": "c8d66afa",
   "metadata": {},
   "outputs": [
    {
     "name": "stdout",
     "output_type": "stream",
     "text": [
      "\n",
      "Chemin optimal (distance de Manhattan) :\n",
      "[(0, 0), (1, 1), (2, 2), (3, 3), (4, 4), (5, 5), (6, 6), (7, 7), (8, 7), (9, 8), (9, 9)]\n",
      "Nombre de nœuds développés: 13\n",
      "Nombre de nœuds maximum en mémoire: 46\n",
      "\n",
      "Chemin optimal (distance euclidienne) :\n",
      "[(0, 0), (1, 1), (2, 2), (3, 3), (4, 4), (5, 5), (6, 6), (7, 7), (8, 7), (9, 8), (9, 9)]\n",
      "Nombre de nœuds développés: 12\n",
      "Nombre de nœuds maximum en mémoire: 45\n",
      "\n",
      "Chemin optimal (Uniform_Cost_Search) :\n",
      "[(0, 0), (1, 0), (2, 1), (3, 2), (4, 3), (5, 4), (6, 5), (7, 6), (8, 7), (9, 8), (9, 9)]\n",
      "Nombre de nœuds développés: 82\n",
      "Nombre de nœuds maximum en mémoire: 43\n",
      "\n",
      "Chemin optimal (DFS_Backtracking) :\n",
      "[(0, 0), (1, 1), (2, 0), (1, 0), (0, 1), (0, 2), (1, 3), (2, 2), (3, 3), (2, 4), (1, 5), (0, 4), (1, 4), (2, 3), (3, 2), (2, 1), (3, 0), (4, 1), (5, 0), (6, 1), (7, 2), (8, 1), (9, 0), (8, 0), (7, 1), (6, 0), (5, 1), (6, 2), (5, 3), (4, 4), (3, 5), (2, 6), (1, 7), (0, 6), (1, 6), (2, 7), (3, 6), (4, 6), (5, 5), (6, 4), (7, 3), (8, 2), (9, 3), (8, 3), (7, 4), (6, 5), (5, 6), (6, 7), (7, 6), (8, 5), (9, 4), (9, 5), (8, 6), (7, 5), (6, 6), (5, 7), (4, 8), (3, 7), (3, 8), (2, 9), (3, 9), (4, 9), (5, 8), (6, 9), (7, 8), (8, 7), (9, 8), (9, 9)]\n",
      "Nombre de nœuds développés: 78\n",
      "Nombre de nœuds maximum en mémoire: 147\n"
     ]
    },
    {
     "data": {
      "image/png": "[encoded data removed]",
      "text/plain": [
       "<Figure size 720x720 with 4 Axes>"
      ]
     },
     "metadata": {
      "needs_background": "light"
     },
     "output_type": "display_data"
    }
   ],
   "source": [
    "# 2. Appliquer ces algorithmes sur le problème du labyrinthe décrit précédemment et illustrer\n",
    "#    graphiquement pour chaque algorithme (et heuristique) le chemin trouvé \n",
    "\n",
    "# Définitoin de la Grille\n",
    "grid, start, end = generate_map(10, 10)\n",
    "\n",
    "# initialiser les données pour les graphiques( Comparaison des algorithmes )\n",
    "X = [\"A* (Manhattan)\", \"A* (Euclidean)\", \"Uniform Cost Search\", \"DFS Backtracking\"]\n",
    "y1 = [] # nombre de nœuds développés\n",
    "y2 = [] # nombre de nœuds maximum en mémoire\n",
    "\n",
    "# Illustration graphique\n",
    "\n",
    "# définition des couleurs de la grille de la carte\n",
    "colors = ListedColormap(['white', 'black', 'red', 'blue', 'green'])\n",
    "bounds = [0, 1, 2, 3, 4]\n",
    "norm = plt.Normalize(bounds[0], bounds[-1])\n",
    "\n",
    "# afficher la grille de la carte\n",
    "fig, ((ax1, ax2), (ax3, ax4)) = plt.subplots(nrows=2, ncols=2, figsize=(10,10))\n",
    "\n",
    "# ajouter les marqueurs de départ et d'arrivée\n",
    "ax1.imshow(grid, cmap=colors, norm=norm)\n",
    "ax1.scatter(start[1], start[0], marker='o', s=200, c='red', edgecolors='black', linewidths=2)\n",
    "ax1.scatter(end[1], end[0], marker='o', s=200, c='green', edgecolors='black', linewidths=2)\n",
    "\n",
    "ax2.imshow(grid, cmap=colors, norm=norm)\n",
    "ax2.scatter(start[1], start[0], marker='o', s=200, c='red', edgecolors='black', linewidths=2)\n",
    "ax2.scatter(end[1], end[0], marker='o', s=200, c='green', edgecolors='black', linewidths=2)\n",
    "\n",
    "ax3.imshow(grid, cmap=colors, norm=norm)\n",
    "ax3.scatter(start[1], start[0], marker='o', s=200, c='red', edgecolors='black', linewidths=2)\n",
    "ax3.scatter(end[1], end[0], marker='o', s=200, c='green', edgecolors='black', linewidths=2)\n",
    "\n",
    "ax4.imshow(grid, cmap=colors, norm=norm)\n",
    "ax4.scatter(start[1], start[0], marker='o', s=200, c='red', edgecolors='black', linewidths=2)\n",
    "ax4.scatter(end[1], end[0], marker='o', s=200, c='green', edgecolors='black', linewidths=2)\n",
    "\n",
    "# Appels des fonctions\n",
    "\n",
    "# Appeler la fonction A_star_search avec l'heuristique de distance de Manhattan\n",
    "print(\"\\nChemin optimal (distance de Manhattan) :\")\n",
    "path, node_exploded, max_node_queue = A_star_search(start, end, grid, Manhattan_Distance)\n",
    "print(path)\n",
    "# ajouter les résultats à la liste de données pour les graphiques\n",
    "y1.append(node_exploded)\n",
    "y2.append(max_node_queue)\n",
    "y1_Manhattan_10 = node_exploded\n",
    "y2_Manhattan_10 = max_node_queue\n",
    "\n",
    "print(\"Nombre de nœuds développés:\", node_exploded)\n",
    "print(\"Nombre de nœuds maximum en mémoire:\", max_node_queue)\n",
    "\n",
    "for i in range(len(path)-1):\n",
    "    # tracer le chemin trouvé par A* avec l'heuristique de distance de Manhattan\n",
    "    y, x = path[i]\n",
    "    ax1.scatter(x, y, marker='o', s=50, c='blue', edgecolors='black', linewidths=1)\n",
    "    y, x = path[i+1]\n",
    "    ax1.plot([x, x], [y, y], color='blue', linewidth=2)\n",
    "\n",
    "    \n",
    "\n",
    "# Appeler la fonction A_star_search avec l'heuristique de distance euclidienne\n",
    "print(\"\\nChemin optimal (distance euclidienne) :\")\n",
    "path, node_exploded, max_node_queue = A_star_search(start, end, grid, Euclidean_Distance)\n",
    "print(path)\n",
    "# ajouter les résultats à la liste de données pour les graphiques\n",
    "y1.append(node_exploded)\n",
    "y2.append(max_node_queue)\n",
    "y1_Euclidien_10 = node_exploded\n",
    "y2_Euclidien_10 = max_node_queue\n",
    "\n",
    "print(\"Nombre de nœuds développés:\", node_exploded)\n",
    "print(\"Nombre de nœuds maximum en mémoire:\", max_node_queue)\n",
    "\n",
    "for i in range(len(path)-1):\n",
    "    # tracer le chemin trouvé par A* avec l'heuristique de distance euclidienne\n",
    "    y, x = path[i]\n",
    "    ax2.scatter(x, y, marker='o', s=50, c='blue', edgecolors='black', linewidths=1)\n",
    "    y, x = path[i+1]\n",
    "    ax2.plot([x, x], [y, y], color='blue', linewidth=2)\n",
    "\n",
    "    \n",
    "\n",
    "# Appeler la fonction Uniform_Cost_Search \n",
    "print(\"\\nChemin optimal (Uniform_Cost_Search) :\")\n",
    "path, node_exploded, max_node_queue = Uniform_Cost_Search(start, end, grid)\n",
    "print(path)\n",
    "y1_UNI_10 = node_exploded\n",
    "y2_UNI_10 = max_node_queue\n",
    "print(\"Nombre de nœuds développés:\", node_exploded)\n",
    "print(\"Nombre de nœuds maximum en mémoire:\", max_node_queue)\n",
    "\n",
    "# ajouter les résultats à la liste de données pour les graphiques\n",
    "y1.append(node_exploded)\n",
    "y2.append(max_node_queue)\n",
    "for i in range(len(path)-1):\n",
    "    # tracer le chemin trouvé par A* avec l'heuristique de distance euclidienne\n",
    "    y, x = path[i]\n",
    "    ax3.scatter(x, y, marker='o', s=50, c='blue', edgecolors='black', linewidths=1)\n",
    "    y, x = path[i+1]\n",
    "    ax3.plot([x, x], [y, y], color='blue', linewidth=2)\n",
    "\n",
    "\n",
    "    \n",
    "\n",
    "# Appeler la fonction DFS_Backtracking \n",
    "print(\"\\nChemin optimal (DFS_Backtracking) :\")\n",
    "path, node_exploded, max_node_queue = DFS_Backtracking(start, end, grid)\n",
    "print(path)\n",
    "y1_DFS_10 = node_exploded\n",
    "y2_DFS_10 = max_node_queue\n",
    "print(\"Nombre de nœuds développés:\", node_exploded)\n",
    "print(\"Nombre de nœuds maximum en mémoire:\", max_node_queue)\n",
    "# ajouter les résultats à la liste de données pour les graphiques\n",
    "y1.append(node_exploded)\n",
    "y2.append(max_node_queue)\n",
    "for i in range(len(path)-1):\n",
    "    # tracer le chemin trouvé par A* avec l'heuristique de distance euclidienne\n",
    "    y, x = path[i]\n",
    "    ax4.scatter(x, y, marker='o', s=50, c='blue', edgecolors='black', linewidths=1)\n",
    "    y, x = path[i+1]\n",
    "    ax4.plot([x, x], [y, y], color='blue', linewidth=2)\n",
    "    "
   ]
  },
  {
   "cell_type": "markdown",
   "id": "9ccac093",
   "metadata": {},
   "source": [
    "### Explication du code\n",
    "Ce code est un exemple de résolution de problème de recherche de chemin dans une grille de carte en utilisant différents algorithmes de recherche tels que A* (avec deux heuristiques différentes), Uniform Cost Search, Depth-First Search (DFS) avec Backtracking.\n",
    "\n",
    "La grille de la carte est créée aléatoirement en spécifiant le nombre de lignes et de colonnes de la grille et en définissant la probabilité qu'une cellule donnée soit un mur.\n",
    "\n",
    "Le point de départ et le point d'arrivée sont également définis aléatoirement dans la grille.\n",
    "\n",
    "La grille de la carte et les points de départ et d'arrivée sont ensuite affichés à l'aide de la bibliothèque matplotlib.\n",
    "\n",
    "Les différentes fonctions d'algorithmes de recherche sont ensuite appelées pour trouver le chemin optimal de la grille de départ à la grille d'arrivée. Chaque fonction d'algorithmes de recherche utilise une heuristique différente pour estimer le coût le plus faible du chemin entre deux nœuds.\n",
    "\n",
    "Enfin, le chemin optimal est tracé pour chaque algorithme en utilisant une couleur différente pour les différents algorithmes."
   ]
  },
  {
   "cell_type": "markdown",
   "id": "c9df17cd",
   "metadata": {},
   "source": [
    "### Interprétation et Conclusion :\n",
    "En termes d'efficacité de la recherche de chemin, l'algorithme de recherche Uniform_Cost_Search est le plus efficace car il a trouvé le chemin optimal en un temps raisonnable en explorant le moins de nœuds et en utilisant le moins de mémoire. Les algorithmes A* avec la distance de Manhattan et la distance euclidienne ont trouvé le même chemin optimal, mais le premier est plus rapide et plus efficace en termes d'exploration de nœuds et de mémoire utilisée. Le DFS_Backtracking est le moins efficace car il a exploré beaucoup plus de nœuds et a utilisé beaucoup plus de mémoire que les autres algorithmes pour trouver un chemin suboptimal.\n",
    "\n",
    "En conclusion, les résultats montrent que l'algorithme Uniform_Cost_Search est le plus efficace pour résoudre le problème du jeu du labyrinthe, tandis que les algorithmes A* avec la distance de Manhattan et la distance euclidienne sont également efficaces, mais avec une légère différence de performance. Le DFS_Backtracking est le moins efficace et est plus adapté pour des problèmes de taille plus petite ou pour des situations où la recherche du chemin optimal n'est pas une priorité absolue."
   ]
  },
  {
   "cell_type": "markdown",
   "id": "232b112f",
   "metadata": {},
   "source": [
    "### Comparaison de nombre de nœuds développés, nombre de nœuds maximum en mémoire."
   ]
  },
  {
   "cell_type": "code",
   "execution_count": 13,
   "id": "6de3943e",
   "metadata": {},
   "outputs": [
    {
     "data": {
      "image/png": "[encoded data removed]",
      "text/plain": [
       "<Figure size 1224x504 with 2 Axes>"
      ]
     },
     "metadata": {
      "needs_background": "light"
     },
     "output_type": "display_data"
    }
   ],
   "source": [
    "fig, (ax1,ax2) = plt.subplots(ncols=2, figsize=(17,7))\n",
    "\n",
    "ax1.bar(X, y1, color='b')\n",
    "ax1.set_xlabel('Algorithme')\n",
    "ax1.set_ylabel('Nombre de nœuds développés')\n",
    "ax1.set_title('Comparaison des algorithmes de recherche \\n (nombre de nœuds développés)\\n(Grid: 10x10)')\n",
    "\n",
    "ax2.bar(X, y2, color='g')\n",
    "ax2.set_xlabel('Algorithme')\n",
    "ax2.set_ylabel('Nombre de nœuds maximum en mémoire')\n",
    "ax2.set_title('Comparaison des algorithmes de recherche\\n (nombre de nœuds maximum en mémoire)\\n(Grid: 10x10)')\n",
    "\n",
    "plt.show()\n"
   ]
  },
  {
   "cell_type": "markdown",
   "id": "1b19ebdf",
   "metadata": {},
   "source": [
    "### Interprétation pour les deux graphes\n",
    "- **A* avec la distance de Manhattan** a développé 11 nœuds et a atteint un maximum de 38 nœuds en mémoire. C'est le nombre le plus faible de nœuds développés parmi les quatre algorithmes, car la distance de Manhattan est une heuristique admissible et efficace pour ce problème.\n",
    "\n",
    "- **A* avec la distance euclidienne** a développé 12 nœuds et a atteint un maximum de 42 nœuds en mémoire. Bien que la distance euclidienne soit également une heuristique admissible, elle peut parfois être moins efficace que la distance de Manhattan en raison de la complexité de la racine carrée.\n",
    "\n",
    "- **Uniform Cost Search** a développé 80 nœuds et a atteint un maximum de 40 nœuds en mémoire. C'est le nombre le plus élevé de nœuds développés, car UCS explore tous les nœuds en fonction de leur coût sans utiliser d'heuristique pour guider la recherche.\n",
    "\n",
    "- **DFS** n'a pas été utilisé pour ce chemin optimal donné, mais en général, il a tendance à explorer beaucoup plus de nœuds que les autres algorithmes, ce qui le rend moins efficace pour les grands espaces de recherche.\n",
    "\n",
    "En revanche, Uniform Cost Search et DFS n'utilisent pas de fonction heuristique, ce qui peut entraîner l'exploration de nombreuses branches inutiles. Cela se traduit par un nombre de nœuds développés beaucoup plus élevé.\n",
    "\n",
    "\n",
    "En résumé, A* avec la distance de Manhattan a développé le moins de nœuds et utilisé le moins de mémoire parmi les quatre algorithmes pour le chemin optimal donné. Cependant, cela peut varier en fonction de la nature de l'espace de recherche et de la qualité de l'heuristique utilisée.\n"
   ]
  },
  {
   "cell_type": "markdown",
   "id": "f19badfb",
   "metadata": {},
   "source": [
    "# QUESTION 4 :\n",
    "Faire varier la taille du labyrinthe en choisissant aléatoirement des murs:\n",
    "a. Grille 20x20\n",
    "b. Grille 30x30\n"
   ]
  },
  {
   "cell_type": "markdown",
   "id": "34b97f38",
   "metadata": {},
   "source": [
    "## Grille 20 x 20"
   ]
  },
  {
   "cell_type": "code",
   "execution_count": 67,
   "id": "5eae8a65",
   "metadata": {},
   "outputs": [
    {
     "name": "stdout",
     "output_type": "stream",
     "text": [
      "\n",
      "Chemin optimal (distance de Manhattan) :\n",
      "[(0, 0), (1, 1), (2, 1), (3, 2), (4, 3), (5, 4), (6, 5), (7, 6), (7, 7), (8, 8), (9, 9), (10, 10), (11, 11), (12, 12), (13, 13), (14, 14), (15, 15), (16, 16), (17, 17), (18, 18), (19, 19)]\n",
      "Nombre de nœuds développés: 21\n",
      "Nombre de nœuds maximum en mémoire: 94\n",
      "\n",
      "Chemin optimal (distance euclidienne) :\n",
      "[(0, 0), (1, 1), (2, 1), (3, 2), (4, 3), (5, 4), (6, 5), (7, 6), (7, 7), (8, 8), (9, 9), (10, 10), (11, 11), (12, 12), (13, 13), (14, 14), (15, 15), (16, 16), (17, 17), (18, 18), (19, 19)]\n",
      "Nombre de nœuds développés: 22\n",
      "Nombre de nœuds maximum en mémoire: 95\n",
      "\n",
      "Chemin optimal (Uniform_Cost_Search) :\n",
      "[(0, 0), (1, 0), (2, 1), (3, 2), (3, 3), (4, 4), (5, 5), (6, 6), (7, 7), (8, 8), (9, 9), (10, 10), (11, 11), (12, 12), (13, 13), (14, 14), (15, 15), (16, 16), (17, 17), (18, 18), (19, 19)]\n",
      "Nombre de nœuds développés: 327\n",
      "Nombre de nœuds maximum en mémoire: 101\n",
      "\n",
      "Chemin optimal (DFS_Backtracking) :\n",
      "[(0, 0), (1, 1), (2, 0), (3, 1), (4, 0), (5, 1), (6, 0), (7, 1), (8, 0), (7, 0), (6, 1), (5, 2), (4, 3), (3, 2), (2, 1), (1, 0), (0, 1), (0, 2), (0, 3), (1, 4), (0, 5), (1, 6), (2, 5), (3, 6), (4, 5), (5, 4), (6, 3), (5, 3), (4, 2), (3, 3), (2, 4), (3, 5), (4, 4), (5, 5), (6, 4), (7, 3), (8, 2), (9, 3), (10, 2), (11, 1), (12, 2), (13, 3), (14, 4), (15, 3), (16, 4), (17, 3), (18, 2), (17, 1), (16, 0), (15, 1), (14, 1), (13, 0), (12, 1), (11, 0), (10, 1), (9, 0), (8, 1), (9, 2), (8, 3), (9, 4), (10, 3), (11, 2), (12, 3), (11, 4), (10, 5), (11, 6), (12, 5), (13, 4), (14, 3), (15, 4), (16, 3), (17, 2), (18, 3), (17, 4), (16, 5), (15, 6), (14, 5), (14, 6), (15, 7), (16, 6), (17, 7), (18, 6), (19, 5), (19, 6), (18, 7), (17, 8), (16, 9), (15, 8), (14, 9), (13, 8), (12, 7), (11, 8), (10, 7), (9, 8), (8, 9), (7, 8), (6, 7), (5, 6), (6, 5), (7, 6), (8, 5), (8, 6), (7, 7), (6, 6), (5, 7), (4, 6), (3, 7), (2, 8), (1, 7), (0, 6), (0, 7), (1, 8), (2, 7), (3, 8), (2, 9), (3, 10), (2, 11), (1, 12), (0, 11), (1, 11), (2, 10), (3, 11), (2, 12), (3, 13), (2, 14), (1, 15), (0, 16), (1, 17), (2, 16), (3, 17), (4, 16), (5, 15), (4, 14), (5, 13), (6, 12), (5, 11), (6, 10), (5, 9), (6, 9), (5, 10), (4, 11), (3, 12), (2, 13), (1, 14), (0, 15), (1, 16), (2, 15), (3, 16), (4, 15), (5, 14), (4, 13), (5, 12), (6, 13), (7, 14), (8, 13), (9, 12), (8, 11), (7, 10), (8, 10), (7, 9), (8, 8), (9, 7), (10, 6), (11, 5), (12, 6), (11, 7), (12, 8), (11, 9), (10, 10), (9, 9), (10, 9), (11, 10), (12, 9), (13, 10), (12, 11), (11, 12), (10, 11), (9, 11), (8, 12), (7, 13), (6, 14), (6, 15), (7, 16), (8, 15), (9, 14), (10, 13), (11, 14), (12, 13), (13, 12), (14, 11), (15, 10), (16, 11), (17, 10), (18, 9), (19, 8), (18, 8), (17, 9), (16, 10), (15, 9), (14, 8), (13, 9), (12, 10), (11, 11), (10, 12), (9, 13), (8, 14), (9, 15), (10, 14), (11, 13), (12, 12), (13, 11), (14, 10), (15, 11), (14, 12), (13, 13), (12, 14), (11, 15), (10, 16), (9, 17), (8, 18), (7, 17), (6, 16), (5, 17), (4, 18), (5, 19), (6, 19), (7, 18), (8, 17), (9, 18), (8, 19), (9, 19), (10, 18), (11, 17), (12, 18), (13, 17), (14, 16), (13, 15), (14, 14), (15, 13), (16, 12), (17, 11), (18, 10), (19, 11), (18, 12), (17, 13), (16, 14), (15, 15), (16, 16), (17, 15), (18, 14), (19, 13), (18, 13), (17, 12), (16, 13), (15, 12), (14, 13), (15, 14), (14, 15), (13, 16), (12, 15), (11, 16), (12, 17), (13, 18), (14, 17), (15, 16), (16, 15), (17, 14), (18, 15), (17, 16), (16, 17), (15, 18), (14, 19), (15, 19), (16, 19), (17, 18), (18, 17), (19, 16), (18, 16), (17, 17), (18, 18), (17, 19), (18, 19), (19, 19)]\n",
      "Nombre de nœuds développés: 323\n",
      "Nombre de nœuds maximum en mémoire: 649\n"
     ]
    },
    {
     "data": {
      "image/png": "[encoded data removed]",
      "text/plain": [
       "<Figure size 720x720 with 4 Axes>"
      ]
     },
     "metadata": {
      "needs_background": "light"
     },
     "output_type": "display_data"
    }
   ],
   "source": [
    "# 2. Appliquer ces algorithmes sur le problème du labyrinthe décrit précédemment et illustrer\n",
    "#    graphiquement pour chaque algorithme (et heuristique) le chemin trouvé \n",
    "\n",
    "# Définitoin de la Grille\n",
    "grid, start, end = generate_map(20, 20)\n",
    "\n",
    "# initialiser les données pour les graphiques( Comparaison des algorithmes )\n",
    "X = [\"A* (Manhattan)\", \"A* (Euclidean)\", \"Uniform Cost Search\", \"DFS Backtracking\"]\n",
    "y1 = [] # nombre de nœuds développés\n",
    "y2 = [] # nombre de nœuds maximum en mémoire    \n",
    "\n",
    "# Illustration graphique\n",
    "\n",
    "# définition des couleurs de la grille de la carte\n",
    "colors = ListedColormap(['white', 'black', 'red', 'blue', 'green'])\n",
    "bounds = [0, 1, 2, 3, 4]\n",
    "norm = plt.Normalize(bounds[0], bounds[-1])\n",
    "\n",
    "# afficher la grille de la carte\n",
    "fig, ((ax1, ax2), (ax3, ax4)) = plt.subplots(nrows=2, ncols=2, figsize=(10,10))\n",
    "\n",
    "# ajouter les marqueurs de départ et d'arrivée\n",
    "ax1.imshow(grid, cmap=colors, norm=norm)\n",
    "ax1.scatter(start[1], start[0], marker='o', s=200, c='red', edgecolors='black', linewidths=2)\n",
    "ax1.scatter(end[1], end[0], marker='o', s=200, c='green', edgecolors='black', linewidths=2)\n",
    "\n",
    "ax2.imshow(grid, cmap=colors, norm=norm)\n",
    "ax2.scatter(start[1], start[0], marker='o', s=200, c='red', edgecolors='black', linewidths=2)\n",
    "ax2.scatter(end[1], end[0], marker='o', s=200, c='green', edgecolors='black', linewidths=2)\n",
    "\n",
    "ax3.imshow(grid, cmap=colors, norm=norm)\n",
    "ax3.scatter(start[1], start[0], marker='o', s=200, c='red', edgecolors='black', linewidths=2)\n",
    "ax3.scatter(end[1], end[0], marker='o', s=200, c='green', edgecolors='black', linewidths=2)\n",
    "\n",
    "ax4.imshow(grid, cmap=colors, norm=norm)\n",
    "ax4.scatter(start[1], start[0], marker='o', s=200, c='red', edgecolors='black', linewidths=2)\n",
    "ax4.scatter(end[1], end[0], marker='o', s=200, c='green', edgecolors='black', linewidths=2)\n",
    "\n",
    "# Appels des fonctions\n",
    "\n",
    "# Appeler la fonction A_star_search avec l'heuristique de distance de Manhattan\n",
    "print(\"\\nChemin optimal (distance de Manhattan) :\")\n",
    "path, node_exploded, max_node_queue = A_star_search(start, end, grid, Manhattan_Distance)\n",
    "print(path)\n",
    "# ajouter les résultats à la liste de données pour les graphiques\n",
    "y1.append(node_exploded)\n",
    "y2.append(max_node_queue)\n",
    "y1_Manhattan_20 = node_exploded\n",
    "y2_Manhattan_20 = max_node_queue\n",
    "print(\"Nombre de nœuds développés:\", node_exploded)\n",
    "print(\"Nombre de nœuds maximum en mémoire:\", max_node_queue)\n",
    "for i in range(len(path)-1):\n",
    "    # tracer le chemin trouvé par A* avec l'heuristique de distance de Manhattan\n",
    "    y, x = path[i]\n",
    "    ax1.scatter(x, y, marker='o', s=50, c='blue', edgecolors='black', linewidths=1)\n",
    "    y, x = path[i+1]\n",
    "    ax1.plot([x, x], [y, y], color='blue', linewidth=2)\n",
    "\n",
    "    \n",
    "\n",
    "# Appeler la fonction A_star_search avec l'heuristique de distance euclidienne\n",
    "print(\"\\nChemin optimal (distance euclidienne) :\")\n",
    "path, node_exploded, max_node_queue = A_star_search(start, end, grid, Euclidean_Distance)\n",
    "print(path)\n",
    "# ajouter les résultats à la liste de données pour les graphiques\n",
    "y1.append(node_exploded)\n",
    "y2.append(max_node_queue)\n",
    "y1_Euclidien_20 = node_exploded\n",
    "y2_Euclidien_20 = max_node_queue\n",
    "print(\"Nombre de nœuds développés:\", node_exploded)\n",
    "print(\"Nombre de nœuds maximum en mémoire:\", max_node_queue)\n",
    "for i in range(len(path)-1):\n",
    "    # tracer le chemin trouvé par A* avec l'heuristique de distance euclidienne\n",
    "    y, x = path[i]\n",
    "    ax2.scatter(x, y, marker='o', s=50, c='blue', edgecolors='black', linewidths=1)\n",
    "    y, x = path[i+1]\n",
    "    ax2.plot([x, x], [y, y], color='blue', linewidth=2)\n",
    "\n",
    "    \n",
    "\n",
    "# Appeler la fonction Uniform_Cost_Search \n",
    "print(\"\\nChemin optimal (Uniform_Cost_Search) :\")\n",
    "path, node_exploded, max_node_queue = Uniform_Cost_Search(start, end, grid)\n",
    "print(path)\n",
    "# ajouter les résultats à la liste de données pour les graphiques\n",
    "y1.append(node_exploded)\n",
    "y2.append(max_node_queue)\n",
    "y1_UNI_20 = node_exploded\n",
    "y2_UNI_20 = max_node_queue\n",
    "print(\"Nombre de nœuds développés:\", node_exploded)\n",
    "print(\"Nombre de nœuds maximum en mémoire:\", max_node_queue)\n",
    "for i in range(len(path)-1):\n",
    "    # tracer le chemin trouvé par A* avec l'heuristique de distance euclidienne\n",
    "    y, x = path[i]\n",
    "    ax3.scatter(x, y, marker='o', s=50, c='blue', edgecolors='black', linewidths=1)\n",
    "    y, x = path[i+1]\n",
    "    ax3.plot([x, x], [y, y], color='blue', linewidth=2)\n",
    "\n",
    "\n",
    "    \n",
    "\n",
    "# Appeler la fonction DFS_Backtracking \n",
    "print(\"\\nChemin optimal (DFS_Backtracking) :\")\n",
    "path, node_exploded, max_node_queue = DFS_Backtracking(start, end, grid)\n",
    "print(path)\n",
    "y1_DFS_20 = node_exploded\n",
    "y2_DFS_20 = max_node_queue\n",
    "print(\"Nombre de nœuds développés:\", node_exploded)\n",
    "print(\"Nombre de nœuds maximum en mémoire:\", max_node_queue)\n",
    "# ajouter les résultats à la liste de données pour les graphiques\n",
    "y1.append(node_exploded)\n",
    "y2.append(max_node_queue)\n",
    "for i in range(len(path)-1):\n",
    "    # tracer le chemin trouvé par A* avec l'heuristique de distance euclidienne\n",
    "    y, x = path[i]\n",
    "    ax4.scatter(x, y, marker='o', s=50, c='blue', edgecolors='black', linewidths=1)\n",
    "    y, x = path[i+1]\n",
    "    ax4.plot([x, x], [y, y], color='blue', linewidth=2)\n",
    "    "
   ]
  },
  {
   "cell_type": "markdown",
   "id": "db3cda01",
   "metadata": {},
   "source": [
    "### Interprétation et Conclusion :\n",
    "Le chemin optimal **(distance de Manhattan)** et le chemin optimal **(distance euclidienne)** sont **identiques**, ce qui indique que ces deux métriques de distance conduisent au même résultat dans ce cas particulier. Cela peut s'expliquer par le fait que les mouvements possibles dans la grille sont limités à quatre directions (haut, bas, gauche, droite), ce qui rend la distance de Manhattan et la distance euclidienne équivalentes.\n",
    "\n",
    "En revanche, le chemin optimal obtenu avec **Uniform Cost Search** diffère légèrement des deux autres chemins. Cela est dû au fait que Uniform Cost Search explore tous les nœuds en fonction de leur coût, sans prendre en compte de heuristique spécifique. Par conséquent, il peut trouver un chemin différent qui a le même coût total mais une séquence de mouvements légèrement différente.\n",
    "\n",
    "Enfin, le chemin optimal trouvé avec **DFS Backtracking** est très différent des autres chemins. DFS Backtracking explore l'espace de recherche en profondeur en suivant une branche jusqu'à ce qu'elle atteigne une impasse, puis il revient en arrière pour explorer une autre branche. Cela peut conduire à une exploration exhaustive de différentes options et à la découverte de chemins non optimaux. Dans ce cas, DFS Backtracking a trouvé un chemin beaucoup plus long avec de nombreux mouvements en zigzag avant d'atteindre la destination.\n",
    "\n",
    "En conclusion, pour trouver un chemin optimal dans une grille de taille 20x20, les algorithmes basés sur A* avec la distance de Manhattan ou la distance euclidienne sont les plus efficaces et fournissent des résultats similaires. Uniform Cost Search peut également trouver un chemin optimal, mais il peut nécessiter plus de nœuds développés en raison de l'absence d'heuristique. DFS Backtracking n'est pas adapté pour trouver un chemin optimal dans ce contexte, car il peut produire des résultats non optimaux et nécessite une exploration exhaustive de l'espace de recherche."
   ]
  },
  {
   "cell_type": "markdown",
   "id": "f1b4c1ef",
   "metadata": {},
   "source": [
    "### Comparaison de nombre de nœuds développés, nombre de nœuds maximum en mémoire."
   ]
  },
  {
   "cell_type": "code",
   "execution_count": 68,
   "id": "7c7230f5",
   "metadata": {},
   "outputs": [
    {
     "data": {
      "image/png": "[encoded data removed]",
      "text/plain": [
       "<Figure size 1224x504 with 2 Axes>"
      ]
     },
     "metadata": {
      "needs_background": "light"
     },
     "output_type": "display_data"
    }
   ],
   "source": [
    "fig, (ax1,ax2) = plt.subplots(ncols=2, figsize=(17,7))\n",
    "\n",
    "ax1.bar(X, y1, color='b')\n",
    "ax1.set_xlabel('Algorithme')\n",
    "ax1.set_ylabel('Nombre de nœuds développés')\n",
    "ax1.set_title('Comparaison des algorithmes de recherche \\n (nombre de nœuds développés)\\n(Grid: 20x20)')\n",
    "\n",
    "ax2.bar(X, y2, color='g')\n",
    "ax2.set_xlabel('Algorithme')\n",
    "ax2.set_ylabel('Nombre de nœuds maximum en mémoire')\n",
    "ax2.set_title('Comparaison des algorithmes de recherche\\n (nombre de nœuds maximum en mémoire)\\n(Grid: 20x20)')\n",
    "\n",
    "plt.show()\n"
   ]
  },
  {
   "cell_type": "markdown",
   "id": "033fe63b",
   "metadata": {},
   "source": [
    "### Interprétation et Conclusion :\n",
    "On peut observer que l'algorithme de recherche du chemin optimal par la distance de Manhattan et l'algorithme de recherche du chemin optimal par la distance euclidienne ont donné des résultats similaires en termes de nombre de nœuds développés et de nœuds maximum en mémoire. Ces deux algorithmes semblent être les plus efficaces parmi les quatre.\n",
    "\n",
    "L'algorithme de recherche du chemin optimal par Uniform_Cost_Search a nécessité un nombre beaucoup plus élevé de nœuds développés et de nœuds maximum en mémoire, ce qui indique qu'il est plus coûteux en termes de ressources.\n",
    "\n",
    "L'algorithme de recherche du chemin optimal par DFS_Backtracking a également produit un nombre élevé de nœuds développés et de nœuds maximum en mémoire, ce qui suggère qu'il peut être inefficace pour résoudre ce type de problème sur une grille de grande taille.\n",
    "\n",
    "En conclusion, pour une grille de taille 20x20, les algorithmes basés sur la distance de Manhattan et la distance euclidienne semblent être les meilleurs choix en termes d'efficacité."
   ]
  },
  {
   "cell_type": "markdown",
   "id": "de487328",
   "metadata": {},
   "source": [
    "## Grille 30 x 30"
   ]
  },
  {
   "cell_type": "code",
   "execution_count": 69,
   "id": "710a807a",
   "metadata": {},
   "outputs": [
    {
     "name": "stdout",
     "output_type": "stream",
     "text": [
      "\n",
      "Chemin optimal (distance de Manhattan) :\n",
      "[(0, 0), (1, 1), (2, 2), (2, 3), (3, 4), (4, 5), (5, 6), (6, 7), (7, 7), (8, 8), (8, 9), (9, 10), (10, 11), (11, 12), (12, 13), (12, 14), (13, 15), (14, 16), (15, 17), (16, 18), (17, 19), (18, 20), (19, 21), (20, 22), (21, 23), (22, 24), (22, 25), (23, 26), (24, 27), (25, 28), (26, 28), (27, 28), (28, 29), (29, 29)]\n",
      "Nombre de nœuds développés: 36\n",
      "Nombre de nœuds maximum en mémoire: 142\n",
      "\n",
      "Chemin optimal (distance euclidienne) :\n",
      "[(0, 0), (1, 1), (2, 2), (2, 3), (3, 4), (4, 5), (5, 6), (6, 7), (7, 7), (8, 8), (8, 9), (9, 10), (10, 11), (11, 12), (12, 13), (12, 14), (13, 15), (14, 16), (15, 17), (16, 18), (17, 19), (18, 20), (19, 21), (20, 22), (21, 23), (22, 24), (23, 24), (24, 25), (25, 26), (26, 27), (27, 28), (28, 29), (29, 29)]\n",
      "Nombre de nœuds développés: 35\n",
      "Nombre de nœuds maximum en mémoire: 148\n",
      "\n",
      "Chemin optimal (Uniform_Cost_Search) :\n",
      "[(0, 0), (0, 1), (1, 2), (2, 3), (3, 4), (4, 5), (5, 5), (6, 6), (7, 7), (8, 8), (8, 9), (8, 10), (9, 11), (10, 12), (11, 13), (12, 14), (13, 15), (14, 16), (15, 17), (16, 17), (17, 18), (18, 19), (19, 20), (20, 20), (21, 21), (22, 22), (23, 23), (24, 24), (25, 25), (26, 26), (27, 27), (28, 28), (29, 29)]\n",
      "Nombre de nœuds développés: 729\n",
      "Nombre de nœuds maximum en mémoire: 144\n",
      "\n",
      "Chemin optimal (DFS_Backtracking) :\n",
      "[(0, 0), (1, 1), (0, 2), (1, 3), (2, 2), (3, 1), (4, 0), (5, 0), (4, 1), (5, 2), (6, 1), (7, 2), (6, 3), (5, 4), (4, 3), (3, 4), (2, 3), (1, 2), (0, 3), (1, 4), (0, 5), (1, 6), (2, 5), (3, 6), (4, 5), (5, 6), (4, 7), (3, 8), (2, 7), (1, 7), (0, 6), (1, 5), (2, 4), (3, 5), (2, 6), (3, 7), (4, 6), (5, 5), (6, 4), (5, 3), (6, 2), (7, 3), (8, 2), (9, 2), (10, 1), (11, 0), (12, 1), (11, 2), (10, 3), (9, 4), (8, 3), (7, 4), (8, 5), (7, 6), (6, 7), (5, 8), (4, 9), (3, 10), (2, 9), (1, 10), (2, 10), (3, 9), (4, 8), (5, 7), (6, 6), (7, 5), (8, 4), (9, 5), (10, 4), (11, 3), (12, 2), (13, 1), (14, 1), (15, 0), (16, 1), (17, 0), (16, 0), (15, 1), (16, 2), (17, 1), (18, 2), (17, 3), (16, 4), (15, 3), (14, 4), (13, 3), (12, 4), (11, 5), (10, 6), (9, 7), (8, 6), (7, 7), (8, 8), (7, 9), (6, 10), (5, 9), (4, 10), (3, 11), (2, 12), (1, 11), (1, 12), (0, 13), (1, 14), (2, 13), (3, 12), (4, 13), (3, 14), (2, 15), (1, 16), (0, 15), (1, 15), (0, 16), (1, 17), (0, 18), (0, 19), (1, 20), (0, 21), (1, 21), (2, 20), (3, 21), (4, 20), (5, 19), (4, 18), (3, 17), (4, 16), (3, 15), (4, 14), (5, 13), (6, 14), (7, 13), (8, 12), (7, 11), (8, 10), (9, 11), (10, 10), (11, 9), (10, 8), (11, 7), (12, 6), (13, 5), (14, 6), (15, 5), (16, 6), (17, 5), (18, 4), (19, 5), (20, 6), (21, 5), (22, 4), (21, 3), (20, 2), (19, 2), (20, 1), (19, 0), (20, 0), (21, 0), (22, 0), (23, 1), (24, 0), (25, 1), (26, 0), (25, 0), (24, 1), (25, 2), (24, 3), (23, 4), (22, 3), (21, 2), (20, 3), (19, 4), (18, 3), (17, 2), (16, 3), (15, 2), (14, 3), (13, 2), (12, 3), (11, 4), (10, 5), (9, 6), (8, 7), (9, 8), (10, 7), (11, 8), (12, 8), (13, 7), (14, 7), (15, 6), (16, 7), (15, 8), (14, 9), (13, 10), (12, 11), (11, 10), (10, 11), (9, 10), (8, 9), (7, 10), (8, 11), (7, 12), (6, 13), (7, 14), (8, 13), (9, 12), (10, 13), (11, 12), (12, 13), (11, 14), (10, 15), (9, 14), (8, 15), (7, 16), (6, 15), (5, 16), (4, 15), (3, 16), (2, 17), (3, 18), (4, 17), (5, 17), (6, 16), (7, 15), (8, 14), (9, 13), (10, 12), (11, 11), (12, 10), (13, 11), (14, 10), (15, 9), (16, 8), (17, 7), (18, 8), (19, 7), (20, 8), (21, 7), (22, 6), (23, 5), (24, 4), (23, 3), (24, 2), (25, 3), (26, 2), (27, 3), (26, 4), (25, 5), (26, 6), (27, 7), (28, 6), (29, 5), (28, 4), (29, 3), (28, 3), (27, 2), (26, 3), (25, 4), (24, 5), (23, 6), (22, 5), (21, 6), (20, 5), (19, 6), (18, 7), (17, 8), (16, 9), (15, 10), (14, 11), (15, 12), (16, 11), (17, 10), (18, 11), (19, 10), (20, 9), (19, 8), (20, 7), (21, 8), (22, 7), (23, 8), (24, 7), (24, 8), (23, 9), (22, 10), (21, 9), (22, 9), (21, 10), (22, 11), (23, 10), (24, 9), (25, 10), (26, 9), (27, 8), (28, 7), (27, 6), (28, 5), (29, 6), (29, 7), (28, 8), (27, 9), (26, 10), (25, 9), (24, 10), (24, 11), (23, 12), (22, 13), (21, 12), (20, 13), (19, 12), (18, 13), (17, 12), (16, 13), (15, 14), (14, 13), (15, 13), (16, 12), (17, 11), (18, 10), (19, 11), (18, 12), (17, 13), (16, 14), (15, 15), (14, 16), (13, 15), (12, 14), (11, 13), (10, 14), (9, 15), (8, 16), (7, 17), (6, 18), (7, 18), (8, 17), (9, 16), (9, 17), (8, 18), (9, 19), (10, 18), (11, 17), (12, 16), (11, 15), (12, 15), (11, 16), (12, 17), (11, 18), (12, 19), (13, 18), (14, 19), (13, 20), (12, 21), (11, 20), (10, 21), (9, 20), (8, 19), (7, 20), (6, 19), (5, 20), (6, 21), (5, 22), (4, 23), (3, 24), (2, 25), (1, 24), (0, 23), (1, 23), (2, 22), (3, 23), (4, 22), (5, 21), (6, 20), (7, 21), (8, 20), (9, 21), (10, 20), (11, 19), (12, 18), (13, 17), (14, 18), (15, 17), (16, 16), (17, 16), (16, 15), (17, 14), (18, 15), (19, 16), (20, 15), (21, 14), (20, 14), (19, 15), (18, 16), (19, 17), (20, 16), (21, 17), (22, 16), (23, 15), (24, 14), (25, 13), (24, 12), (25, 12), (24, 13), (23, 14), (24, 15), (25, 14), (26, 13), (27, 12), (28, 11), (27, 10), (28, 9), (29, 9), (28, 10), (29, 11), (28, 12), (27, 13), (26, 14), (25, 15), (24, 16), (23, 17), (22, 18), (21, 19), (20, 18), (19, 18), (18, 17), (17, 18), (16, 17), (16, 18), (17, 19), (18, 18), (18, 19), (17, 20), (16, 19), (15, 20), (14, 21), (13, 22), (12, 23), (11, 22), (10, 23), (9, 22), (8, 21), (7, 22), (6, 22), (5, 23), (4, 24), (4, 25), (3, 26), (2, 26), (3, 27), (4, 26), (5, 27), (6, 26), (7, 25), (6, 24), (7, 23), (8, 22), (9, 23), (8, 24), (9, 25), (8, 26), (7, 27), (8, 28), (9, 27), (10, 26), (11, 27), (12, 26), (13, 25), (14, 26), (13, 27), (12, 28), (11, 29), (10, 28), (9, 29), (8, 29), (7, 28), (6, 27), (7, 26), (8, 25), (9, 24), (10, 25), (11, 24), (12, 25), (13, 24), (14, 23), (15, 22), (16, 23), (17, 22), (18, 21), (19, 20), (20, 19), (21, 20), (20, 21), (19, 22), (18, 23), (17, 24), (16, 25), (15, 24), (14, 25), (13, 26), (12, 27), (11, 28), (12, 29), (13, 28), (14, 27), (15, 28), (14, 29), (13, 29), (14, 28), (15, 27), (16, 26), (17, 25), (18, 24), (19, 23), (18, 22), (19, 21), (20, 20), (21, 21), (22, 20), (23, 20), (24, 19), (23, 18), (24, 18), (25, 17), (26, 16), (27, 15), (28, 14), (29, 13), (28, 13), (27, 14), (26, 15), (25, 16), (26, 17), (27, 16), (28, 15), (29, 14), (29, 15), (28, 16), (27, 17), (26, 18), (25, 19), (26, 19), (27, 18), (28, 17), (29, 17), (28, 18), (27, 19), (28, 20), (27, 21), (26, 22), (25, 21), (24, 22), (23, 23), (22, 22), (21, 23), (20, 22), (21, 22), (22, 21), (23, 22), (24, 21), (25, 20), (26, 21), (27, 20), (28, 19), (29, 20), (28, 21), (29, 22), (28, 23), (27, 24), (26, 23), (25, 24), (24, 23), (23, 24), (22, 23), (21, 24), (20, 23), (19, 24), (18, 25), (17, 26), (18, 27), (19, 26), (20, 25), (21, 26), (22, 25), (23, 26), (24, 25), (25, 26), (24, 27), (23, 28), (22, 27), (21, 28), (20, 27), (21, 27), (22, 26), (23, 27), (24, 26), (25, 25), (26, 24), (27, 23), (28, 24), (29, 25), (28, 26), (27, 27), (26, 26), (25, 27), (26, 28), (25, 29), (26, 29), (25, 28), (26, 27), (27, 26), (28, 25), (29, 26), (28, 27), (27, 28), (28, 29), (29, 28), (28, 28), (29, 29)]\n",
      "Nombre de nœuds développés: 705\n",
      "Nombre de nœuds maximum en mémoire: 1505\n"
     ]
    },
    {
     "data": {
      "image/png": "[encoded data removed]",
      "text/plain": [
       "<Figure size 720x720 with 4 Axes>"
      ]
     },
     "metadata": {
      "needs_background": "light"
     },
     "output_type": "display_data"
    }
   ],
   "source": [
    "# 2. Appliquer ces algorithmes sur le problème du labyrinthe décrit précédemment et illustrer\n",
    "#    graphiquement pour chaque algorithme (et heuristique) le chemin trouvé \n",
    "\n",
    "# Définitoin de la Grille\n",
    "grid, start, end = generate_map(30, 30)\n",
    "\n",
    "# initialiser les données pour les graphiques( Comparaison des algorithmes )\n",
    "X = [\"A* (Manhattan)\", \"A* (Euclidean)\", \"Uniform Cost Search\", \"DFS Backtracking\"]\n",
    "y1 = [] # nombre de nœuds développés\n",
    "y2 = [] # nombre de nœuds maximum en mémoire     \n",
    "\n",
    "# Illustration graphique\n",
    "\n",
    "# définition des couleurs de la grille de la carte\n",
    "colors = ListedColormap(['white', 'black', 'red', 'blue', 'green'])\n",
    "bounds = [0, 1, 2, 3, 4]\n",
    "norm = plt.Normalize(bounds[0], bounds[-1])\n",
    "\n",
    "# afficher la grille de la carte\n",
    "fig, ((ax1, ax2), (ax3, ax4)) = plt.subplots(nrows=2, ncols=2, figsize=(10,10))\n",
    "\n",
    "# ajouter les marqueurs de départ et d'arrivée\n",
    "ax1.imshow(grid, cmap=colors, norm=norm)\n",
    "ax1.scatter(start[1], start[0], marker='o', s=200, c='red', edgecolors='black', linewidths=2)\n",
    "ax1.scatter(end[1], end[0], marker='o', s=200, c='green', edgecolors='black', linewidths=2)\n",
    "\n",
    "ax2.imshow(grid, cmap=colors, norm=norm)\n",
    "ax2.scatter(start[1], start[0], marker='o', s=200, c='red', edgecolors='black', linewidths=2)\n",
    "ax2.scatter(end[1], end[0], marker='o', s=200, c='green', edgecolors='black', linewidths=2)\n",
    "\n",
    "ax3.imshow(grid, cmap=colors, norm=norm)\n",
    "ax3.scatter(start[1], start[0], marker='o', s=200, c='red', edgecolors='black', linewidths=2)\n",
    "ax3.scatter(end[1], end[0], marker='o', s=200, c='green', edgecolors='black', linewidths=2)\n",
    "\n",
    "ax4.imshow(grid, cmap=colors, norm=norm)\n",
    "ax4.scatter(start[1], start[0], marker='o', s=200, c='red', edgecolors='black', linewidths=2)\n",
    "ax4.scatter(end[1], end[0], marker='o', s=200, c='green', edgecolors='black', linewidths=2)\n",
    "\n",
    "# Appels des fonctions\n",
    "\n",
    "# Appeler la fonction A_star_search avec l'heuristique de distance de Manhattan\n",
    "print(\"\\nChemin optimal (distance de Manhattan) :\")\n",
    "path, node_exploded, max_node_queue = A_star_search(start, end, grid, Manhattan_Distance)\n",
    "print(path)\n",
    "# ajouter les résultats à la liste de données pour les graphiques\n",
    "y1.append(node_exploded)\n",
    "y2.append(max_node_queue)\n",
    "y1_Manhattan_30 = node_exploded\n",
    "y2_Manhattan_30 = max_node_queue\n",
    "print(\"Nombre de nœuds développés:\", node_exploded)\n",
    "print(\"Nombre de nœuds maximum en mémoire:\", max_node_queue)\n",
    "for i in range(len(path)-1):\n",
    "    # tracer le chemin trouvé par A* avec l'heuristique de distance de Manhattan\n",
    "    y, x = path[i]\n",
    "    ax1.scatter(x, y, marker='o', s=50, c='blue', edgecolors='black', linewidths=1)\n",
    "    y, x = path[i+1]\n",
    "    ax1.plot([x, x], [y, y], color='blue', linewidth=2)\n",
    "\n",
    "    \n",
    "\n",
    "# Appeler la fonction A_star_search avec l'heuristique de distance euclidienne\n",
    "print(\"\\nChemin optimal (distance euclidienne) :\")\n",
    "path, node_exploded, max_node_queue = A_star_search(start, end, grid, Euclidean_Distance)\n",
    "print(path)\n",
    "# ajouter les résultats à la liste de données pour les graphiques\n",
    "y1.append(node_exploded)\n",
    "y2.append(max_node_queue)\n",
    "y1_Euclidien_30 = node_exploded\n",
    "y2_Euclidien_30 = max_node_queue\n",
    "print(\"Nombre de nœuds développés:\", node_exploded)\n",
    "print(\"Nombre de nœuds maximum en mémoire:\", max_node_queue)\n",
    "for i in range(len(path)-1):\n",
    "    # tracer le chemin trouvé par A* avec l'heuristique de distance euclidienne\n",
    "    y, x = path[i]\n",
    "    ax2.scatter(x, y, marker='o', s=50, c='blue', edgecolors='black', linewidths=1)\n",
    "    y, x = path[i+1]\n",
    "    ax2.plot([x, x], [y, y], color='blue', linewidth=2)\n",
    "\n",
    "    \n",
    "\n",
    "# Appeler la fonction Uniform_Cost_Search \n",
    "print(\"\\nChemin optimal (Uniform_Cost_Search) :\")\n",
    "path, node_exploded, max_node_queue = Uniform_Cost_Search(start, end, grid)\n",
    "print(path)\n",
    "y1_UNI_30 = node_exploded\n",
    "y2_UNI_30 = max_node_queue\n",
    "# ajouter les résultats à la liste de données pour les graphiques\n",
    "y1.append(node_exploded)\n",
    "y2.append(max_node_queue)\n",
    "print(\"Nombre de nœuds développés:\", node_exploded)\n",
    "print(\"Nombre de nœuds maximum en mémoire:\", max_node_queue)\n",
    "for i in range(len(path)-1):\n",
    "    # tracer le chemin trouvé par A* avec l'heuristique de distance euclidienne\n",
    "    y, x = path[i]\n",
    "    ax3.scatter(x, y, marker='o', s=50, c='blue', edgecolors='black', linewidths=1)\n",
    "    y, x = path[i+1]\n",
    "    ax3.plot([x, x], [y, y], color='blue', linewidth=2)\n",
    "\n",
    "\n",
    "    \n",
    "\n",
    "# Appeler la fonction DFS_Backtracking \n",
    "print(\"\\nChemin optimal (DFS_Backtracking) :\")\n",
    "path, node_exploded, max_node_queue = DFS_Backtracking(start, end, grid)\n",
    "print(path)\n",
    "# ajouter les résultats à la liste de données pour les graphiques\n",
    "y1.append(node_exploded)\n",
    "y2.append(max_node_queue)\n",
    "y1_DFS_30 = node_exploded\n",
    "y2_DFS_30 = max_node_queue\n",
    "print(\"Nombre de nœuds développés:\", node_exploded)\n",
    "print(\"Nombre de nœuds maximum en mémoire:\", max_node_queue)\n",
    "for i in range(len(path)-1):\n",
    "    # tracer le chemin trouvé par A* avec l'heuristique de distance euclidienne\n",
    "    y, x = path[i]\n",
    "    ax4.scatter(x, y, marker='o', s=50, c='blue', edgecolors='black', linewidths=1)\n",
    "    y, x = path[i+1]\n",
    "    ax4.plot([x, x], [y, y], color='blue', linewidth=2)\n",
    "    "
   ]
  },
  {
   "cell_type": "markdown",
   "id": "4c2db255",
   "metadata": {},
   "source": [
    "### Interprétation et Conclusion :\n",
    "Les deux premiers algorithmes ont trouvé le même chemin optimal, qui est le plus court chemin possible entre le point de départ et le point d'arrivée. Le troisième algorithme a également trouvé un chemin optimal, mais il a utilisé une approche différente en considérant les coûts de déplacement entre les cases plutôt que les distances géométriques. Le quatrième algorithme a également trouvé un chemin, mais il n'était pas optimal car il explore toutes les options possibles avant de choisir le meilleur chemin, ce qui peut être très coûteux en termes de temps de calcul.\n",
    "\n",
    "En conclusion, le choix de l'algorithme dépend des contraintes de temps et de ressources, ainsi que des critères de recherche de l'utilisateur. Dans ce cas, si la distance de Manhattan ou la distance euclidienne sont des critères importants, les deux premiers algorithmes seraient les meilleurs choix, tandis que si la recherche de coût uniforme est plus importante, le troisième algorithme serait plus adapté. Cependant, si l'utilisateur souhaite simplement trouver un chemin possible sans se soucier de l'optimalité, le quatrième algorithme pourrait être une option viable."
   ]
  },
  {
   "cell_type": "markdown",
   "id": "e85fdb4d",
   "metadata": {},
   "source": [
    "### Comparaison de nombre de nœuds développés, nombre de nœuds maximum en mémoire."
   ]
  },
  {
   "cell_type": "code",
   "execution_count": 20,
   "id": "d419ee0b",
   "metadata": {},
   "outputs": [
    {
     "data": {
      "image/png": "[encoded data removed]",
      "text/plain": [
       "<Figure size 1224x504 with 2 Axes>"
      ]
     },
     "metadata": {
      "needs_background": "light"
     },
     "output_type": "display_data"
    }
   ],
   "source": [
    "fig, (ax1,ax2) = plt.subplots(ncols=2, figsize=(17,7))\n",
    "\n",
    "ax1.bar(X, y1, color='b')\n",
    "ax1.set_xlabel('Algorithme')\n",
    "ax1.set_ylabel('Nombre de nœuds développés')\n",
    "ax1.set_title('Comparaison des algorithmes de recherche \\n (nombre de nœuds développés)\\n(Grid: 30x30)')\n",
    "\n",
    "ax2.bar(X, y2, color='g')\n",
    "ax2.set_xlabel('Algorithme')\n",
    "ax2.set_ylabel('Nombre de nœuds maximum en mémoire')\n",
    "ax2.set_title('Comparaison des algorithmes de recherche\\n (nombre de nœuds maximum en mémoire)\\n(Grid: 30x30)')\n",
    "\n",
    "plt.show()\n"
   ]
  },
  {
   "cell_type": "markdown",
   "id": "7b654cbb",
   "metadata": {},
   "source": [
    "### Interprétation et Conclusion :\n",
    "Lorsqu'on compare le nombre de nœuds développés pour les différentes variantes d'algorithme utilisées pour une grille de 30x30, on constate que les deux variantes d'A* (avec la distance de Manhattan et la distance euclidienne comme heuristiques) ont développé 10 nœuds chacune, tandis que Uniform Cost Search a développé 729 nœuds et DFS a développé 705 nœuds.\n",
    "\n",
    "Cela suggère que les variantes d'A* ont été plus efficaces pour trouver une solution que Uniform Cost Search et DFS pour cette grille de 30x30. Les heuristiques utilisées par A* ont aidé à guider la recherche vers les nœuds les plus prometteurs, ce qui a permis de trouver une solution en explorant moins de nœuds. En revanche, Uniform Cost Search et DFS n'utilisent pas de fonction heuristique et sont donc moins efficaces pour trouver une solution.\n",
    "\n",
    "Cependant, il est important de noter que le nombre de nœuds développés dépend fortement de la complexité de la grille et de la position de départ et d'arrivée. Pour des grilles plus grandes ou plus complexes, le nombre de nœuds développés pourrait être beaucoup plus élevé pour tous les algorithmes. De plus, d'autres facteurs tels que le temps d'exécution, l'espace mémoire et la qualité de la solution trouvée doivent également être pris en compte pour évaluer les performances des différents algorithmes.\n",
    "\n",
    "En conclusion, pour cette grille de 30x30, les variantes d'A* avec la distance de Manhattan et la distance euclidienne comme heuristiques ont été plus efficaces pour trouver une solution que Uniform Cost Search et DFS en explorant moins de nœuds. Cependant, il est important de considérer les résultats avec précaution et de les comparer à d'autres métriques pour évaluer les performances globales des algorithmes."
   ]
  },
  {
   "cell_type": "markdown",
   "id": "c73707ca",
   "metadata": {},
   "source": [
    "## NOTES"
   ]
  },
  {
   "cell_type": "markdown",
   "id": "d3affdd6",
   "metadata": {},
   "source": [
    "- La recherche de chemin optimal avec la distance euclidienne a donné le même résultat que la recherche avec la distance de Manhattan, mais que la distance euclidienne est souvent considérée comme une mesure plus précise de la distance.\n",
    "\n",
    "- La recherche avec l'algorithme Uniform_Cost_Search a donné un chemin différent de ceux obtenus avec les distances de Manhattan et euclidienne. Cela peut être dû à la façon dont l'algorithme fonctionne, en choisissant le chemin le moins coûteux à chaque étape plutôt que de prendre en compte la distance globale.\n",
    "\n",
    "- La recherche avec l'algorithme DFS_Backtracking a donné un chemin très différent des autres résultats. Cela est dû à la nature de l'algorithme, qui explore toutes les options possibles avant de trouver une solution, ce qui peut prendre beaucoup de temps et d'espace pour les problèmes plus complexes.\n",
    "\n",
    "**En conclusion, chaque algorithme a ses avantages et ses inconvénients, et le choix de l'algorithme dépendra des exigences spécifiques du problème à résoudre.**"
   ]
  },
  {
   "cell_type": "markdown",
   "id": "4da7a6fa",
   "metadata": {},
   "source": [
    "A* avec la distance de Manhattan : cette méthode donne un chemin optimal avec une distance de 14, en développant 22 nœuds et en ayant un maximum de 34 nœuds en mémoire.\n",
    "\n",
    "A* avec la distance euclidienne : cette méthode donne également un chemin optimal avec une distance de 14, mais en développant moins de nœuds que la première méthode (17 nœuds) et en ayant un maximum de 26 nœuds en mémoire.\n",
    "\n",
    "Uniform Cost Search : cette méthode donne également un chemin optimal avec une distance de 14, en développant 43 nœuds et en ayant un maximum de 58 nœuds en mémoire. Elle est plus coûteuse en termes de ressources que les méthodes A*.\n",
    "\n",
    "DFS Backtracking : cette méthode ne donne pas un chemin optimal, mais elle trouve un chemin en développant le moins de nœuds (12 nœuds) et en ayant un maximum de 21 nœuds en mémoire. Cependant, la solution trouvée n'est pas la plus courte.\n",
    "\n",
    "En général, on peut dire que les méthodes A* sont plus efficaces que l'Uniform Cost Search et le DFS Backtracking, car elles fournissent un chemin optimal en développant moins de nœuds. Cependant, le choix entre les deux méthodes A* dépendra de la structure de la grille et de l'emplacement des points de départ et d'arrivée."
   ]
  },
  {
   "cell_type": "markdown",
   "id": "a31c31da",
   "metadata": {},
   "source": [
    "## General Conclusion:"
   ]
  },
  {
   "cell_type": "markdown",
   "id": "f9c4aea4",
   "metadata": {},
   "source": [
    "- **Pour la grille de taille 10x10,** tous les algorithmes trouvent rapidement la solution optimale, avec un nombre de nœuds développés relativement faible. Le DFS_Backtracking est le plus rapide et utilise le moins de mémoire, mais ne garantit pas la solution optimale. Les algorithmes A* avec l'heuristique de distance euclidienne et Uniform_Cost_Search ont des performances similaires, avec un nombre de nœuds développés et de mémoire légèrement plus élevé que le DFS_Backtracking. L'algorithme A* avec l'heuristique de distance de Manhattan a les performances les plus élevées, avec un nombre de nœuds développés et de mémoire légèrement plus faible que les autres algorithmes.\n",
    "\n",
    "- **Pour la grille de taille 20x20,** les performances des algorithmes commencent à se distinguer. Le DFS_Backtracking trouve rapidement une solution, mais elle n'est pas garantie d'être optimale et utilise beaucoup de mémoire. Les algorithmes A* avec les deux heuristiques ont des performances similaires, mais ont besoin de plus de nœuds développés et de mémoire que le DFS_Backtracking. L'algorithme Uniform_Cost_Search a besoin du moins de nœuds développés, mais utilise un peu plus de mémoire que les algorithmes A*. L'heuristique de distance de Manhattan est encore une fois plus efficace que l'heuristique de distance euclidienne.\n",
    "\n",
    "- **Pour la grille de taille 30x30,** les performances des algorithmes deviennent plus divergentes. Le DFS_Backtracking commence à avoir des difficultés à trouver une solution en temps raisonnable, et utilise beaucoup de mémoire. Les algorithmes A* avec les deux heuristiques ont besoin de plus de nœuds développés et de mémoire que les algorithmes précédents, mais sont encore capables de trouver une solution dans un délai raisonnable. L'algorithme Uniform_Cost_Search nécessite le plus de temps et de mémoire pour trouver une solution, car il explore toutes les options possibles. L'heuristique de distance de Manhattan est toujours plus efficace que l'heuristique de distance euclidienne.\n",
    "\n",
    "Dans l'ensemble, l'algorithme A* avec l'heuristique de distance de Manhattan est le plus performant parmi les quatre algorithmes étudiés, avec un nombre de nœuds développés et de mémoire généralement plus faible que les autres algorithmes. L'algorithme Uniform_Cost_Search a besoin de moins de nœuds développés, mais peut utiliser plus de mémoire. Le DFS_Backtracking est rapide et utilise le moins de mémoire, mais ne garantit pas la solution optimale. Le choix de l'algorithme dépend donc de l'équilibre entre les performances en termes de temps et d'espace, et de la garantie de trouver la solution optimale ou non."
   ]
  },
  {
   "cell_type": "markdown",
   "id": "f7c52d63",
   "metadata": {},
   "source": [
    "### Comparer les résultats obtenus avec les 3 différentes tailles de labyrinthe et avec les différents algorithmes à l’aide d’un graphique : nombre de nœuds développés, nombre de nœuds maximum en mémoire. Illustrer graphiquement les chemins trouvés pour chaque méthode"
   ]
  },
  {
   "cell_type": "markdown",
   "id": "b49599a1",
   "metadata": {},
   "source": [
    "### A* - MANHATTAN"
   ]
  },
  {
   "cell_type": "code",
   "execution_count": 70,
   "id": "c66ce453",
   "metadata": {},
   "outputs": [
    {
     "data": {
      "image/png": "[encoded data removed]",
      "text/plain": [
       "<Figure size 720x360 with 1 Axes>"
      ]
     },
     "metadata": {
      "needs_background": "light"
     },
     "output_type": "display_data"
    }
   ],
   "source": [
    "# Créer le graphique Pour Manhattan \n",
    "fig, ax = plt.subplots(figsize=(10,5))\n",
    "bar_width = 0.35\n",
    "opacity = 0.8\n",
    "y1_Manhattan = []\n",
    "y2_Manhattan = []\n",
    "grid_size = ['10*10','20*20','30*30']\n",
    "y1_Manhattan.extend([y1_Manhattan_10,y1_Manhattan_20,y1_Manhattan_30])\n",
    "y2_Manhattan.extend([y2_Manhattan_10,y2_Manhattan_20,y2_Manhattan_30])\n",
    "\n",
    "rects1 = ax.bar(grid_size,y1_Manhattan , bar_width,\n",
    "                alpha=opacity, color='b',\n",
    "                label='Nombre de nœuds développés')\n",
    "\n",
    "rects2 = ax.bar([i + bar_width for i in range(len(grid_size))], y2_Manhattan, bar_width,\n",
    "                alpha=opacity, color='g',\n",
    "                label='Nombre de nœuds maximum en mémoire')\n",
    "\n",
    "ax.set_xlabel('Taille de le Grille')\n",
    "ax.set_ylabel('Nombre de nœuds')\n",
    "ax.set_title('Comparaison de A*(Manhattan)')\n",
    "ax.set_xticks([i + bar_width/2 for i in range(len(grid_size))])\n",
    "ax.set_xticklabels(grid_size)\n",
    "ax.legend()\n",
    "\n",
    "fig.tight_layout()\n",
    "plt.show()"
   ]
  },
  {
   "cell_type": "markdown",
   "id": "900fc455",
   "metadata": {},
   "source": [
    "### Interprétation et Conclusion :\n",
    "Il semble que l'algorithme **A* avec la distance de Manhattan** comme heuristique soit efficace pour explorer un petit nombre de nœuds pour résoudre des grilles de taille relativement petite. Cependant, pour des grilles plus grandes, l'algorithme A* peut nécessiter beaucoup de mémoire.\n",
    "\n",
    "Ainsi, la conclusion que vous pouvez tirer est que l'algorithme **A* avec la distance de Manhattan** comme heuristique est une bonne option pour les grilles de petite taille où il explore un nombre limité de nœuds. Cependant, pour les grilles plus grandes, vous devrez peut-être envisager d'autres algorithmes qui nécessitent moins de mémoire ou de techniques pour optimiser l'utilisation de la mémoire.\n"
   ]
  },
  {
   "cell_type": "markdown",
   "id": "36a54ceb",
   "metadata": {},
   "source": [
    "### A* - EUCLIDIEN"
   ]
  },
  {
   "cell_type": "code",
   "execution_count": 71,
   "id": "70addcff",
   "metadata": {},
   "outputs": [
    {
     "data": {
      "image/png": "[encoded data removed]",
      "text/plain": [
       "<Figure size 720x360 with 1 Axes>"
      ]
     },
     "metadata": {
      "needs_background": "light"
     },
     "output_type": "display_data"
    }
   ],
   "source": [
    "# Créer le graphique Pour EUCLIDIEN \n",
    "fig, ax = plt.subplots(figsize=(10,5))\n",
    "bar_width = 0.35\n",
    "opacity = 0.8\n",
    "y1_Euclidien = []\n",
    "y2_Euclidien = []\n",
    "grid_size = ['10*10','20*20','30*30']\n",
    "y1_Euclidien.extend([y1_Euclidien_10,y1_Euclidien_20,y1_Euclidien_30])\n",
    "y2_Euclidien.extend([y2_Euclidien_10,y2_Euclidien_20,y2_Euclidien_30])\n",
    "\n",
    "rects1 = ax.bar(grid_size,y1_Euclidien , bar_width,\n",
    "                alpha=opacity, color='b',\n",
    "                label='Nombre de nœuds développés')\n",
    "\n",
    "rects2 = ax.bar([i + bar_width for i in range(len(grid_size))], y2_Euclidien, bar_width,\n",
    "                alpha=opacity, color='g',\n",
    "                label='Nombre de nœuds maximum en mémoire')\n",
    "\n",
    "ax.set_xlabel('Taille de le Grille')\n",
    "ax.set_ylabel('Nombre de nœuds')\n",
    "ax.set_title('Comparaison de A*(Euclidien) ')\n",
    "ax.set_xticks([i + bar_width/2 for i in range(len(grid_size))])\n",
    "ax.set_xticklabels(grid_size)\n",
    "ax.legend()\n",
    "\n",
    "fig.tight_layout()\n",
    "plt.show()"
   ]
  },
  {
   "cell_type": "markdown",
   "id": "938ab7cf",
   "metadata": {},
   "source": [
    "### Interprétation et Conclusion :\n",
    "En examinant les résultats de l'algorithme **A* avec la distance euclidienne** comme heuristique, on peut observer que le nombre de nœuds développés augmente au fur et à mesure que la taille de la grille augmente, passant de 18 pour une grille de 10x10 à 39 pour une grille de 30x30. En revanche, le nombre de nœuds maximum en mémoire utilisés reste relativement stable, passant de 47 pour une grille de 10x10 à 137 pour une grille de 30x30.\n",
    "\n",
    "Cela indique que, pour une grille de taille donnée, l'algorithme **A* avec la distance euclidienne** explore plus de nœuds que l'algorithme A* avec la distance de Manhattan. En outre, bien que le nombre de nœuds maximum en mémoire utilisés augmente légèrement avec la taille de la grille, il reste relativement faible par rapport au nombre de nœuds développés, ce qui suggère une utilisation efficace de la mémoire.\n",
    "\n",
    "En conclusion, l'algorithme **A* avec la distance euclidienne** comme heuristique peut être considéré comme efficace pour résoudre des grilles de différentes tailles, en explorant un nombre de nœuds relativement important avec une utilisation de mémoire relativement faible. Cependant, comme toujours, il est important de prendre en compte le contexte spécifique et les caractéristiques de la grille pour une évaluation précise et complète de la performance de l'algorithme."
   ]
  },
  {
   "cell_type": "markdown",
   "id": "58f0fff4",
   "metadata": {},
   "source": [
    "### UNIFORM COST SEARCH"
   ]
  },
  {
   "cell_type": "code",
   "execution_count": 72,
   "id": "0b7a8ca4",
   "metadata": {},
   "outputs": [
    {
     "data": {
      "image/png": "[encoded data removed]",
      "text/plain": [
       "<Figure size 720x360 with 1 Axes>"
      ]
     },
     "metadata": {
      "needs_background": "light"
     },
     "output_type": "display_data"
    }
   ],
   "source": [
    "# Créer le graphique Pour UNIFORM COST SEARCH \n",
    "fig, ax = plt.subplots(figsize=(10,5))\n",
    "bar_width = 0.35\n",
    "opacity = 0.8\n",
    "y1_UNI = []\n",
    "y2_UNI = []\n",
    "grid_size = ['10*10','20*20','30*30']\n",
    "y1_UNI.extend([y1_UNI_10,y1_UNI_20,y1_UNI_30])\n",
    "y2_UNI.extend([y2_UNI_10,y2_UNI_20,y2_UNI_30])\n",
    "\n",
    "rects1 = ax.bar(grid_size,y1_UNI , bar_width,\n",
    "                alpha=opacity, color='b',\n",
    "                label='Nombre de nœuds développés')\n",
    "\n",
    "rects2 = ax.bar([i + bar_width for i in range(len(grid_size))], y2_UNI, bar_width,\n",
    "                alpha=opacity, color='g',\n",
    "                label='Nombre de nœuds maximum en mémoire')\n",
    "\n",
    "ax.set_xlabel('Taille de le Grille')\n",
    "ax.set_ylabel('Nombre de nœuds')\n",
    "ax.set_title('Comparaison de UNIFORM COST SEARCH')\n",
    "ax.set_xticks([i + bar_width/2 for i in range(len(grid_size))])\n",
    "ax.set_xticklabels(grid_size)\n",
    "ax.legend()\n",
    "\n",
    "fig.tight_layout()\n",
    "plt.show()"
   ]
  },
  {
   "cell_type": "markdown",
   "id": "108ba29c",
   "metadata": {},
   "source": [
    "### Interprétation et Conclusion:\n",
    "L'algorithme **UNIFORM COST SEARCH** explore tous les chemins possibles avec un coût croissant, ce qui signifie qu'il va visiter tous les nœuds de l'arbre de recherche jusqu'à atteindre la solution optimale. Cela explique pourquoi il génère un nombre élevé de nœuds développés pour toutes les tailles de grille. Cependant, le nombre de nœuds maximum en mémoire est relativement faible comparé aux algorithmes A* pour les grilles de taille 20x20 et 30x30.\n",
    "En conclusion, l'algorithme **UNIFORM COST SEARCH** est une bonne option lorsque l'on veut explorer tous les chemins possibles pour trouver la solution optimale avec des coûts de transition uniformes."
   ]
  },
  {
   "cell_type": "markdown",
   "id": "b8a79c0a",
   "metadata": {},
   "source": [
    "### DFS"
   ]
  },
  {
   "cell_type": "code",
   "execution_count": 73,
   "id": "2fecf7b7",
   "metadata": {},
   "outputs": [
    {
     "data": {
      "image/png": "[encoded data removed]",
      "text/plain": [
       "<Figure size 720x360 with 1 Axes>"
      ]
     },
     "metadata": {
      "needs_background": "light"
     },
     "output_type": "display_data"
    }
   ],
   "source": [
    "# Créer le graphique Pour BFS \n",
    "fig, ax = plt.subplots(figsize=(10,5))\n",
    "bar_width = 0.35\n",
    "opacity = 0.8\n",
    "y1_BFS = []\n",
    "y2_BFS = []\n",
    "grid_size = ['10*10','20*20','30*30']\n",
    "y1_BFS.extend([y1_DFS_10,y1_DFS_20,y1_DFS_30])\n",
    "y2_BFS.extend([y2_DFS_10,y2_DFS_20,y2_DFS_30])\n",
    "\n",
    "rects1 = ax.bar(grid_size,y1_BFS , bar_width,\n",
    "                alpha=opacity, color='b',\n",
    "                label='Nombre de nœuds développés')\n",
    "\n",
    "rects2 = ax.bar([i + bar_width for i in range(len(grid_size))], y2_BFS, bar_width,\n",
    "                alpha=opacity, color='g',\n",
    "                label='Nombre de nœuds maximum en mémoire')\n",
    "\n",
    "ax.set_xlabel('Taille de le Grille')\n",
    "ax.set_ylabel('Nombre de nœuds')\n",
    "ax.set_title('Comparaison de DFS ')\n",
    "ax.set_xticks([i + bar_width/2 for i in range(len(grid_size))])\n",
    "ax.set_xticklabels(grid_size)\n",
    "ax.legend()\n",
    "\n",
    "fig.tight_layout()\n",
    "plt.show()"
   ]
  },
  {
   "cell_type": "markdown",
   "id": "67007b04",
   "metadata": {},
   "source": [
    "### Interprétation et Conclusion :\n",
    "On peut observer que l'algorithme **DFS** explore un nombre de noeuds relativement faible pour la grille de taille 10x10 par rapport aux autres tailles de grille. Cependant, le nombre de noeuds maximum en mémoire est plus élevé que celui des autres algorithmes pour toutes les tailles de grille, ce qui peut être problématique pour les grilles de taille importante. Cela s'explique par le fait que DFS suit une stratégie en profondeur, en explorant un chemin jusqu'à son aboutissement avant de revenir en arrière, ce qui peut conduire à l'exploration de chemins inutiles et à une forte consommation de mémoire.\n",
    "\n",
    "En conclusion, **DFS** peut être efficace pour les grilles de taille réduite, mais il peut être inefficace et gourmand en mémoire pour les grilles de taille importante."
   ]
  },
  {
   "cell_type": "markdown",
   "id": "2ad4649f",
   "metadata": {},
   "source": [
    "# TP2 - Q_Learning"
   ]
  },
  {
   "cell_type": "markdown",
   "id": "e933a4b0",
   "metadata": {},
   "source": [
    "### Définition de la grille"
   ]
  },
  {
   "cell_type": "code",
   "execution_count": 2,
   "id": "e6ab902d",
   "metadata": {},
   "outputs": [],
   "source": [
    "def create_grid(rows, cols):\n",
    "    # Create a grid of zeros\n",
    "    grid = np.zeros((rows, cols))\n",
    "\n",
    "    # Randomly place walls in the grid\n",
    "    for i in range(rows):\n",
    "        for j in range(cols):\n",
    "            if random.random() < 0.2:\n",
    "                grid[i][j] = -5  # assign a reward of -5 for walls\n",
    "            else:\n",
    "                grid[i][j] = 0  # assign a reward of 0 for non-walls\n",
    "\n",
    "    # Set the rewards for the goal state\n",
    "    start_state = (0, 0)\n",
    "    goal_state = (rows - 1, cols - 1)\n",
    "    grid[goal_state[0], goal_state[1]] = 100  # assign a reward of 100 for the goal state\n",
    "\n",
    "    return grid,start_state,goal_state"
   ]
  },
  {
   "cell_type": "markdown",
   "id": "6cbdc026",
   "metadata": {},
   "source": [
    "### Définition de l'algorithme de Q_Learning"
   ]
  },
  {
   "cell_type": "code",
   "execution_count": 5,
   "id": "9390d81c",
   "metadata": {},
   "outputs": [],
   "source": [
    "# Définition des actions possibles\n",
    "actions = [(0, 1), (1, 0), (0, -1), (-1, 0), (1, 1), (-1, 1), (1, -1), (-1, -1)]\n",
    "\n",
    "def Q_Learning(grid, gamma, epsilon, alpha, num_episodes):\n",
    "    \n",
    "    # Définition des paramètres de l'algorithme\n",
    "    #gamma = 0.9\n",
    "    #epsilon = 0.1\n",
    "    #alpha = 0.5\n",
    "    #num_episodes = 1000\n",
    "\n",
    "    # Initialisation de la matrice Q avec des valeurs aléatoires\n",
    "    Q = np.random.rand(grid.shape[0], grid.shape[1], len(actions))\n",
    "\n",
    "    \n",
    "    def epsilon_greedy(Q, state, epsilon):\n",
    "        valid_actions = []\n",
    "        for action in range(len(actions)):\n",
    "            new_state = (state[0]+actions[action][0], state[1]+actions[action][1])\n",
    "            if 0 <= new_state[0] < grid.shape[0] and 0 <= new_state[1] < grid.shape[1] and grid[new_state[0], new_state[1]] != -5:\n",
    "                valid_actions.append(action)\n",
    "        if np.random.uniform(0, 1) < epsilon:\n",
    "            # Exploration : choix aléatoire d'une action valide\n",
    "            action = np.random.choice(valid_actions)\n",
    "        else:\n",
    "            # Exploitation : choix de l'action ayant la plus grande valeur Q parmi les actions valides\n",
    "            Q_valid_actions = Q[state[0], state[1], valid_actions]\n",
    "            action = valid_actions[np.argmax(Q_valid_actions)]\n",
    "        return action\n",
    "\n",
    "    # Fonction pour choisir une action en utilisant la stratégie epsilon-greedy\n",
    " #   def epsilon_greedy(Q, state, epsilon):\n",
    "  #      if np.random.uniform(0, 1) < epsilon:\n",
    "            # Exploration : choix aléatoire d'une action\n",
    "   #         action = np.random.randint(len(actions))\n",
    "    #    else:\n",
    "            # Exploitation : choix de l'action ayant la plus grande valeur Q\n",
    "     #       action = np.argmax(Q[state[0], state[1], :])\n",
    "      #  return action\n",
    "\n",
    "    # Algorithme de Q-learning\n",
    "    for episode in range(num_episodes):\n",
    "        # Initialisation de l'état\n",
    "        state = start_state\n",
    "        # Boucle jusqu'à atteindre l'état terminal\n",
    "        while state != goal_state:\n",
    "            # Choix de l'action à effectuer\n",
    "            action = epsilon_greedy(Q, state, epsilon)\n",
    "            # Calcul de la nouvelle position\n",
    "            new_state = (state[0]+actions[action][0], state[1]+actions[action][1])\n",
    "            # Vérification que la nouvelle position est valide\n",
    "            if grid[new_state[0], new_state[1]] != -5:\n",
    "                # Calcul de la récompense pour la nouvelle position\n",
    "                if new_state == goal_state:\n",
    "                    reward = 100\n",
    "                elif grid[new_state[0], new_state[1]] == -5:\n",
    "                    reward = -5\n",
    "                else:\n",
    "                    reward = 0\n",
    "                # Mise à jour de la valeur Q pour l'état et l'action courants        \n",
    "                Q[state[0], state[1], action] += alpha * (reward + gamma * np.max(Q[new_state[0], new_state[1], :]) - Q[state[0], state[1], action])\n",
    "                # Passage à l'état suivant\n",
    "                state = new_state\n",
    "    return Q"
   ]
  },
  {
   "cell_type": "markdown",
   "id": "f3564179",
   "metadata": {},
   "source": [
    "### Explication du code\n",
    "Tout d'abord, on importe le module numpy qui va nous permettre de travailler avec des tableaux de manière efficace.\n",
    "\n",
    "Ensuite, on définit la grille du labyrinthe à résoudre. Les murs sont représentés par des valeurs de -5, les cases libres par des valeurs de 0. La position de départ du robot et la position de la sortie sont également définies.\n",
    "\n",
    "On définit également les actions possibles que le robot peut prendre. Dans ce cas, le robot peut se déplacer latéralement, longitudinalement ou diagonalement, donc il y a 8 actions possibles.\n",
    "\n",
    "On définit les paramètres de l'algorithme de Q-learning : le facteur de dépréciation gamma, le paramètre epsilon de la stratégie epsilon-greedy, le taux d'apprentissage alpha et le nombre d'épisodes à effectuer.\n",
    "\n",
    "On initialise la matrice Q avec des valeurs aléatoires pour chaque état et chaque action possible. Cette matrice contiendra les valeurs de Q pour chaque état et chaque action, et sera mise à jour à chaque étape de l'algorithme.\n",
    "\n",
    "On définit ensuite une fonction epsilon_greedy(Q, state, epsilon) qui choisit une action à effectuer en utilisant la stratégie epsilon-greedy. Cette fonction prend en entrée la matrice Q, l'état courant du robot et la valeur epsilon de la stratégie epsilon-greedy. La fonction choisit aléatoirement une action avec une probabilité epsilon, et choisit l'action ayant la plus grande valeur Q avec une probabilité 1-epsilon.\n",
    "\n",
    "On commence ensuite la boucle principale de l'algorithme, qui effectue un certain nombre d'épisodes. À chaque épisode, on commence par initialiser l'état du robot à la position de départ.\n",
    "\n",
    "Ensuite, on boucle jusqu'à ce que le robot atteigne la position de sortie. À chaque étape de la boucle, on choisit une action à effectuer en utilisant la fonction epsilon_greedy.\n",
    "\n",
    "On calcule ensuite la nouvelle position du robot en utilisant l'action choisie, et on vérifie que la nouvelle position est valide (c'est-à-dire qu'elle ne correspond pas à un mur).\n",
    "\n",
    "Si la nouvelle position est valide, on calcule la récompense pour cette nouvelle position en fonction de la grille du labyrinthe. Si la nouvelle position correspond à la position de sortie, la récompense est de 100. Si la nouvelle position correspond à un mur, la récompense est de -5. Sinon, la récompense est de 0.\n",
    "\n",
    "Enfin, on met à jour la valeur Q pour l'état et l'action courants en utilisant la formule de mise à jour de Q-learning :\n",
    "\n",
    "**Q[state[0], state[1], action] += alpha * (reward + gamma * np.max(Q[new_state[0], new_state[1], :]) - Q[state[0], state[1], action])**\n",
    "\n",
    "Cette formule met à jour la valeur Q pour l'état et l'action courants en utilisant la récompense reçue, la valeur Q de la nouvelle position et les paramètres gamma et alpha. La formule permet de mettre à jour progressivement les valeurs de Q pour chaque état et chaque action, en utilisant les récompenses reçues lors des différentes étapes de l'algorithme."
   ]
  },
  {
   "cell_type": "markdown",
   "id": "1256081a",
   "metadata": {},
   "source": [
    "### Définition d'algorithme de chercher le chemin optimal pour Q_Learning"
   ]
  },
  {
   "cell_type": "code",
   "execution_count": 6,
   "id": "8adab06d",
   "metadata": {},
   "outputs": [],
   "source": [
    "def find_optimal_path(Q, start_state, goal_state):\n",
    "    # Start at the start state\n",
    "    current_state = start_state\n",
    "    \n",
    "    # Initialize the path and the total reward\n",
    "    path = [current_state]\n",
    "    total_reward = 0\n",
    "    \n",
    "    # Continue until we reach the goal state\n",
    "    while current_state != goal_state:\n",
    "        # Get the Q-values for the current state\n",
    "        q_values = Q[current_state[0], current_state[1], :]\n",
    "        \n",
    "        # Choose the action with the highest Q-value\n",
    "        action = np.argmax(q_values)\n",
    "        \n",
    "        # Update the current state and the total reward\n",
    "        current_state = (current_state[0] + actions[action][0], current_state[1] + actions[action][1])\n",
    "        total_reward += grid[current_state[0], current_state[1]]\n",
    "        \n",
    "        # Add the new state to the path\n",
    "        path.append(current_state)\n",
    "    \n",
    "    return path, total_reward"
   ]
  },
  {
   "cell_type": "markdown",
   "id": "e68cd790",
   "metadata": {},
   "source": [
    "## Grille 10x10"
   ]
  },
  {
   "cell_type": "code",
   "execution_count": 3,
   "id": "c71847ea",
   "metadata": {},
   "outputs": [],
   "source": [
    "grid, start_state, goal_state= create_grid(10, 10)"
   ]
  },
  {
   "cell_type": "code",
   "execution_count": 4,
   "id": "bdc99596",
   "metadata": {},
   "outputs": [
    {
     "name": "stdout",
     "output_type": "stream",
     "text": [
      "[[ -5.   0.   0.   0.   0.   0.  -5.   0.   0.   0.]\n",
      " [  0.  -5.  -5.   0.   0.   0.   0.   0.   0.   0.]\n",
      " [  0.  -5.   0.   0.  -5.   0.   0.  -5.   0.  -5.]\n",
      " [  0.   0.   0.   0.   0.   0.   0.   0.   0.   0.]\n",
      " [  0.   0.   0.   0.   0.   0.   0.  -5.   0.   0.]\n",
      " [  0.   0.   0.   0.   0.  -5.   0.   0.   0.   0.]\n",
      " [  0.   0.   0.   0.   0.   0.   0.  -5.   0.   0.]\n",
      " [  0.   0.  -5.  -5.   0.   0.   0.   0.   0.   0.]\n",
      " [  0.   0.  -5.   0.   0.   0.   0.   0.   0.  -5.]\n",
      " [  0.   0.   0.   0.   0.  -5.   0.  -5.   0. 100.]]\n"
     ]
    }
   ],
   "source": [
    "# Print the grid\n",
    "print(grid)"
   ]
  },
  {
   "cell_type": "code",
   "execution_count": 7,
   "id": "f417899f",
   "metadata": {},
   "outputs": [],
   "source": [
    "# Appeler la fonction Q_Learning\n",
    "Q = Q_Learning(grid, gamma=0.9, epsilon =0.1, alpha=0.5, num_episodes=1000)"
   ]
  },
  {
   "cell_type": "code",
   "execution_count": 8,
   "id": "7ee4e14b",
   "metadata": {},
   "outputs": [
    {
     "name": "stdout",
     "output_type": "stream",
     "text": [
      "\n",
      "Running Q-Learning with gamma = 0.9, alpha = 0.5:\n",
      "\n",
      "Chemin optimal Q_Learning:\n",
      "[(0, 0), (0, 1), (0, 2), (1, 3), (2, 3), (3, 4), (4, 3), (5, 4), (6, 3), (7, 4), (8, 5), (9, 6), (8, 7), (9, 8), (9, 9)]\n",
      "Total reward:  100.0\n",
      "Number of cycles to find the path: 14\n"
     ]
    }
   ],
   "source": [
    "# Appeler la fonction Q_Learning\n",
    "print(\"\\nRunning Q-Learning with gamma = 0.9, alpha = 0.5:\")\n",
    "print(\"\\nChemin optimal Q_Learning:\")\n",
    "path, reward = find_optimal_path(Q, start_state, goal_state)\n",
    "print(path)\n",
    "print(\"Total reward: \",reward)\n",
    "print(f\"Number of cycles to find the path: {len(path)-1}\")"
   ]
  },
  {
   "cell_type": "markdown",
   "id": "1f9888dd",
   "metadata": {},
   "source": [
    "### Interprértation du résultat\n",
    "Le chemin optimal Q-Learning obtenu représente la séquence des états visités pour atteindre l'état final à partir de l'état initial. Les coordonnées (x, y) représentent les positions dans la grille.\n",
    "\n",
    "La récompense totale de 100.0 indique que l'agent a réussi à atteindre l'état final, ce qui correspond à l'objectif de l'algorithme Q-Learning. La récompense de 100 peut être interprétée comme une récompense élevée obtenue pour atteindre l'état final.\n",
    "\n",
    "Le nombre de cycles pour trouver le chemin est de 14, ce qui signifie que l'agent a effectué 14 étapes ou actions avant d'atteindre l'état final. Chaque étape correspond à un mouvement de l'agent dans la grille.\n",
    "\n",
    "Ces résultats indiquent que l'algorithme Q-Learning avec les valeurs de gamma = 0.9 et alpha = 0.5 a réussi à trouver un chemin optimal pour atteindre l'état final avec une récompense maximale."
   ]
  },
  {
   "cell_type": "markdown",
   "id": "d92d5270",
   "metadata": {},
   "source": [
    "### Faire varier 𝜆, 𝛾, (respectivement coefficient d’apprentissage et facteur de dépréciation) et donner à chaque fois le nombre de cycles pour trouver le chemin vers la sortie ainsi que le chemin trouvé"
   ]
  },
  {
   "cell_type": "code",
   "execution_count": 9,
   "id": "45524999",
   "metadata": {},
   "outputs": [],
   "source": [
    "# Appeler la fonction Q_Learning\n",
    "Q = Q_Learning(grid, gamma=0.5, epsilon =0.1, alpha=0.3, num_episodes=1000)"
   ]
  },
  {
   "cell_type": "code",
   "execution_count": null,
   "id": "18f95fe8",
   "metadata": {},
   "outputs": [
    {
     "name": "stdout",
     "output_type": "stream",
     "text": [
      "\n",
      "Running Q-Learning with gamma = 0.5, alpha = 0.3:\n",
      "\n",
      "Chemin optimal Q_Learning:\n"
     ]
    }
   ],
   "source": [
    "# Appeler la fonction Q_Learning\n",
    "print(\"\\nRunning Q-Learning with gamma = 0.5, alpha = 0.3:\")\n",
    "print(\"\\nChemin optimal Q_Learning:\")\n",
    "path, reward = find_optimal_path(Q, start_state, goal_state)\n",
    "print(path)\n",
    "print(\"Total reward: \",reward)\n",
    "print(f\"Number of cycles to find the path: {len(path)-1}\")"
   ]
  },
  {
   "cell_type": "code",
   "execution_count": 33,
   "id": "f4f4a03d",
   "metadata": {},
   "outputs": [
    {
     "name": "stdout",
     "output_type": "stream",
     "text": [
      "\n",
      "Running Q-Learning with gamma=0.5, alpha=0.3:\n"
     ]
    },
    {
     "ename": "MemoryError",
     "evalue": "",
     "output_type": "error",
     "traceback": [
      "\u001b[1;31m---------------------------------------------------------------------------\u001b[0m",
      "\u001b[1;31mMemoryError\u001b[0m                               Traceback (most recent call last)",
      "Input \u001b[1;32mIn [33]\u001b[0m, in \u001b[0;36m<cell line: 18>\u001b[1;34m()\u001b[0m\n\u001b[0;32m     19\u001b[0m \u001b[38;5;28;01mfor\u001b[39;00m alpha \u001b[38;5;129;01min\u001b[39;00m alphas:\n\u001b[0;32m     20\u001b[0m     \u001b[38;5;28mprint\u001b[39m(\u001b[38;5;124mf\u001b[39m\u001b[38;5;124m\"\u001b[39m\u001b[38;5;130;01m\\n\u001b[39;00m\u001b[38;5;124mRunning Q-Learning with gamma=\u001b[39m\u001b[38;5;132;01m{\u001b[39;00mgamma\u001b[38;5;132;01m}\u001b[39;00m\u001b[38;5;124m, alpha=\u001b[39m\u001b[38;5;132;01m{\u001b[39;00malpha\u001b[38;5;132;01m}\u001b[39;00m\u001b[38;5;124m:\u001b[39m\u001b[38;5;124m\"\u001b[39m)\n\u001b[1;32m---> 21\u001b[0m     \u001b[43mperform_q_learning\u001b[49m\u001b[43m(\u001b[49m\u001b[43mgrid\u001b[49m\u001b[43m,\u001b[49m\u001b[43m \u001b[49m\u001b[43mstart_state\u001b[49m\u001b[43m,\u001b[49m\u001b[43m \u001b[49m\u001b[43mgoal_state\u001b[49m\u001b[43m,\u001b[49m\u001b[43m \u001b[49m\u001b[43mgamma\u001b[49m\u001b[43m,\u001b[49m\u001b[43m \u001b[49m\u001b[43mepsilon\u001b[49m\u001b[38;5;241;43m=\u001b[39;49m\u001b[38;5;241;43m0.1\u001b[39;49m\u001b[43m,\u001b[49m\u001b[43m \u001b[49m\u001b[43malpha\u001b[49m\u001b[38;5;241;43m=\u001b[39;49m\u001b[43malpha\u001b[49m\u001b[43m,\u001b[49m\u001b[43m \u001b[49m\u001b[43mnum_episodes\u001b[49m\u001b[38;5;241;43m=\u001b[39;49m\u001b[38;5;241;43m100\u001b[39;49m\u001b[43m)\u001b[49m\n",
      "Input \u001b[1;32mIn [33]\u001b[0m, in \u001b[0;36mperform_q_learning\u001b[1;34m(grid, start_state, goal_state, gamma, epsilon, alpha, num_episodes)\u001b[0m\n\u001b[0;32m      4\u001b[0m Q \u001b[38;5;241m=\u001b[39m Q_Learning(grid, gamma, epsilon, alpha, num_episodes)\n\u001b[0;32m      6\u001b[0m \u001b[38;5;66;03m# Find the optimal path using the learned Q-values\u001b[39;00m\n\u001b[1;32m----> 7\u001b[0m path, reward \u001b[38;5;241m=\u001b[39m \u001b[43mfind_optimal_path\u001b[49m\u001b[43m(\u001b[49m\u001b[43mQ\u001b[49m\u001b[43m,\u001b[49m\u001b[43m \u001b[49m\u001b[43mstart_state\u001b[49m\u001b[43m,\u001b[49m\u001b[43m \u001b[49m\u001b[43mgoal_state\u001b[49m\u001b[43m)\u001b[49m\n\u001b[0;32m      9\u001b[0m \u001b[38;5;66;03m# Print the number of cycles and the found path\u001b[39;00m\n\u001b[0;32m     10\u001b[0m \u001b[38;5;28mprint\u001b[39m(\u001b[38;5;124mf\u001b[39m\u001b[38;5;124m\"\u001b[39m\u001b[38;5;124mNumber of cycles to find the path: \u001b[39m\u001b[38;5;132;01m{\u001b[39;00m\u001b[38;5;28mlen\u001b[39m(path)\u001b[38;5;241m-\u001b[39m\u001b[38;5;241m1\u001b[39m\u001b[38;5;132;01m}\u001b[39;00m\u001b[38;5;124m\"\u001b[39m)\n",
      "Input \u001b[1;32mIn [28]\u001b[0m, in \u001b[0;36mfind_optimal_path\u001b[1;34m(Q, start_state, goal_state)\u001b[0m\n\u001b[0;32m     19\u001b[0m     total_reward \u001b[38;5;241m+\u001b[39m\u001b[38;5;241m=\u001b[39m grid[current_state[\u001b[38;5;241m0\u001b[39m], current_state[\u001b[38;5;241m1\u001b[39m]]\n\u001b[0;32m     21\u001b[0m     \u001b[38;5;66;03m# Add the new state to the path\u001b[39;00m\n\u001b[1;32m---> 22\u001b[0m     \u001b[43mpath\u001b[49m\u001b[38;5;241;43m.\u001b[39;49m\u001b[43mappend\u001b[49m\u001b[43m(\u001b[49m\u001b[43mcurrent_state\u001b[49m\u001b[43m)\u001b[49m\n\u001b[0;32m     24\u001b[0m \u001b[38;5;28;01mreturn\u001b[39;00m path, total_reward\n",
      "\u001b[1;31mMemoryError\u001b[0m: "
     ]
    }
   ],
   "source": [
    "# Function to perform Q-Learning and print the results\n",
    "def perform_q_learning(grid, start_state, goal_state, gamma, epsilon, alpha, num_episodes):\n",
    "    # Perform Q-Learning\n",
    "    Q = Q_Learning(grid, gamma, epsilon, alpha, num_episodes)\n",
    "    \n",
    "    # Find the optimal path using the learned Q-values\n",
    "    path, reward = find_optimal_path(Q, start_state, goal_state)\n",
    "    \n",
    "    # Print the number of cycles and the found path\n",
    "    print(f\"Number of cycles to find the path: {len(path)-1}\")\n",
    "    print(\"Found path:\", path)\n",
    "    print(\"Total reward:\", reward)\n",
    "\n",
    "# Perform Q-Learning and print results for different values of gamma and alpha\n",
    "gammas = [0.5, 0.7, 0.9]  # List of gamma values to try\n",
    "alphas = [0.3, 0.5, 0.7]  # List of alpha values to try\n",
    "\n",
    "for gamma in gammas:\n",
    "    for alpha in alphas:\n",
    "        print(f\"\\nRunning Q-Learning with gamma={gamma}, alpha={alpha}:\")\n",
    "        perform_q_learning(grid, start_state, goal_state, gamma, epsilon=0.1, alpha=alpha, num_episodes=100)"
   ]
  },
  {
   "cell_type": "markdown",
   "id": "65686084",
   "metadata": {},
   "source": [
    "### Interprétation et Explication d'erreur\n",
    "Lors de l'exécution du code dans Jupyter, j'ai rencontré des problèmes de mémoire en essayant de faire varier les valeurs de gamma et alpha. En raison de la taille de la grille et du nombre d'actions possibles, l'algorithme Q-Learning nécessite un espace considérable pour stocker la matrice Q, qui représente les valeurs d'action-état apprises.\n",
    "\n",
    "En modifiant les valeurs de gamma et alpha, j'ai augmenté la complexité de l'algorithme et donc la taille de la matrice Q. Cela a entraîné une consommation excessive de mémoire, ce qui a conduit à des erreurs lors de l'exécution du code.\n",
    "\n",
    "Pour résoudre ce problème, il est recommandé d'utiliser un environnement avec plus de ressources mémoire ou de réduire la taille de la grille ou le nombre d'actions possibles. Une autre approche consiste à utiliser une implémentation plus efficace de l'algorithme Q-Learning qui réduit l'utilisation de la mémoire, par exemple en utilisant des approximations de fonctions pour représenter la valeur Q.\n",
    "\n",
    "Dans le cas présent, exécuter le code dans un environnement avec une mémoire plus importante pourrait permettre d'explorer différentes valeurs de gamma et alpha sans rencontrer d'erreurs de mémoire.\n"
   ]
  },
  {
   "cell_type": "markdown",
   "id": "cfa37f36",
   "metadata": {},
   "source": [
    "### Illustration graphique du chemin trouvé par l'algorithme Q_Learning"
   ]
  },
  {
   "cell_type": "code",
   "execution_count": 9,
   "id": "383919dd",
   "metadata": {},
   "outputs": [],
   "source": [
    "def plot_path(maze, path, start, goal):\n",
    "    maze_copy = [list(row) for row in maze]\n",
    "    for i, j in path:\n",
    "        maze_copy[i][j] = 'P'\n",
    "    maze_copy[start[0]][start[1]] = 'S'\n",
    "    maze_copy[goal[0]][goal[1]] = 'G'\n",
    "    fig, ax = plt.subplots()\n",
    "    for i in range(len(maze_copy)):\n",
    "        for j in range(len(maze_copy[0])):\n",
    "            if maze_copy[i][j] == -5:\n",
    "                ax.add_patch(plt.Rectangle((j, len(maze_copy)-i-1), 1, 1, facecolor='black'))\n",
    "            elif maze_copy[i][j] == 'P':\n",
    "                ax.add_patch(plt.Rectangle((j, len(maze_copy)-i-1), 1, 1, facecolor='blue'))\n",
    "            elif maze_copy[i][j] == 'S':\n",
    "                ax.add_patch(plt.Rectangle((j, len(maze_copy)-i-1), 1, 1, facecolor='red'))\n",
    "            elif maze_copy[i][j] == 'G':\n",
    "                ax.add_patch(plt.Rectangle((j, len(maze_copy)-i-1), 1, 1, facecolor='green'))\n",
    "            else:\n",
    "                ax.add_patch(plt.Rectangle((j, len(maze_copy)-i-1), 1, 1, facecolor='white', edgecolor='black'))\n",
    "    ax.autoscale()\n",
    "    ax.set_aspect('equal')\n",
    "    ax.set_xticks([])\n",
    "    ax.set_yticks([])\n",
    "    plt.show()"
   ]
  },
  {
   "cell_type": "code",
   "execution_count": 10,
   "id": "f3e19efc",
   "metadata": {},
   "outputs": [
    {
     "data": {
      "image/png": "[encoded data removed]",
      "text/plain": [
       "<Figure size 432x288 with 1 Axes>"
      ]
     },
     "metadata": {},
     "output_type": "display_data"
    }
   ],
   "source": [
    "plot_path(grid,path,start_state, goal_state)"
   ]
  },
  {
   "cell_type": "markdown",
   "id": "4640c15b",
   "metadata": {},
   "source": [
    "## Grille 20x20"
   ]
  },
  {
   "cell_type": "code",
   "execution_count": 11,
   "id": "77a64e49",
   "metadata": {},
   "outputs": [],
   "source": [
    "grid, start_state, goal_state= create_grid(20, 20)"
   ]
  },
  {
   "cell_type": "code",
   "execution_count": null,
   "id": "1d917198",
   "metadata": {},
   "outputs": [],
   "source": [
    "# Appeler la fonction Q_Learning\n",
    "Q = Q_Learning(grid, gamma=0.9, epsilon =0.1, alpha=0.5, num_episodes=1000)"
   ]
  },
  {
   "cell_type": "code",
   "execution_count": null,
   "id": "ea8e3464",
   "metadata": {},
   "outputs": [],
   "source": [
    "# Appeler la fonction Q_Learning\n",
    "print(\"\\nChemin optimal Q_Learning:\")\n",
    "path, reward = find_optimal_path(Q, start_state, goal_state)\n",
    "print(path)\n",
    "print(\"Total reward: \",reward)\n",
    "print(f\"Number of cycles to find the path: {len(path)-1}\")"
   ]
  },
  {
   "cell_type": "code",
   "execution_count": null,
   "id": "94ea19cd",
   "metadata": {},
   "outputs": [],
   "source": [
    "def plot_path(maze, path, start, goal):\n",
    "    maze_copy = [list(row) for row in maze]\n",
    "    for i, j in path:\n",
    "        maze_copy[i][j] = 'P'\n",
    "    maze_copy[start[0]][start[1]] = 'S'\n",
    "    maze_copy[goal[0]][goal[1]] = 'G'\n",
    "    fig, ax = plt.subplots()\n",
    "    for i in range(len(maze_copy)):\n",
    "        for j in range(len(maze_copy[0])):\n",
    "            if maze_copy[i][j] == -5:\n",
    "                ax.add_patch(plt.Rectangle((j, len(maze_copy)-i-1), 1, 1, facecolor='black'))\n",
    "            elif maze_copy[i][j] == 'P':\n",
    "                ax.add_patch(plt.Rectangle((j, len(maze_copy)-i-1), 1, 1, facecolor='blue'))\n",
    "            elif maze_copy[i][j] == 'S':\n",
    "                ax.add_patch(plt.Rectangle((j, len(maze_copy)-i-1), 1, 1, facecolor='red'))\n",
    "            elif maze_copy[i][j] == 'G':\n",
    "                ax.add_patch(plt.Rectangle((j, len(maze_copy)-i-1), 1, 1, facecolor='green'))\n",
    "            else:\n",
    "                ax.add_patch(plt.Rectangle((j, len(maze_copy)-i-1), 1, 1, facecolor='white', edgecolor='black'))\n",
    "    ax.autoscale()\n",
    "    ax.set_aspect('equal')\n",
    "    ax.set_xticks([])\n",
    "    ax.set_yticks([])\n",
    "    plt.show()\n"
   ]
  },
  {
   "cell_type": "code",
   "execution_count": null,
   "id": "98c151b1",
   "metadata": {},
   "outputs": [],
   "source": [
    "plot_path(grid,path,start_state, goal_state)"
   ]
  },
  {
   "cell_type": "markdown",
   "id": "0b0c02c1",
   "metadata": {},
   "source": [
    "## Grille 30x30"
   ]
  },
  {
   "cell_type": "code",
   "execution_count": 11,
   "id": "2d9966c1",
   "metadata": {},
   "outputs": [],
   "source": [
    "grid, start_state, goal_state= create_grid(30, 30)"
   ]
  },
  {
   "cell_type": "code",
   "execution_count": null,
   "id": "9b39b8f3",
   "metadata": {},
   "outputs": [],
   "source": [
    "# Appeler la fonction Q_Learning\n",
    "Q = Q_Learning(grid, gamma=0.9, epsilon =0.1, alpha=0.5, num_episodes=1000)"
   ]
  },
  {
   "cell_type": "code",
   "execution_count": null,
   "id": "c276d138",
   "metadata": {},
   "outputs": [],
   "source": [
    "# Appeler la fonction Q_Learning\n",
    "print(\"\\nChemin optimal Q_Learning:\")\n",
    "path, reward = find_optimal_path(Q, start_state, goal_state)\n",
    "print(path)\n",
    "print(\"Total reward: \",reward)\n",
    "print(f\"Number of cycles to find the path: {len(path)-1}\")"
   ]
  },
  {
   "cell_type": "markdown",
   "id": "64796eb4",
   "metadata": {},
   "source": [
    "### Interprétation et Explication d'erreur:\n",
    "Lors de l'exécution du code dans Jupyter, j'ai rencontré des problèmes de mémoire en essayant de faire varier les valeurs de gamma et alpha. En raison de la taille de la grille et du nombre d'actions possibles, l'algorithme Q-Learning nécessite un espace considérable pour stocker la matrice Q, qui représente les valeurs d'action-état apprises.\n",
    "\n",
    "En modifiant les valeurs de gamma et alpha, j'ai augmenté la complexité de l'algorithme et donc la taille de la matrice Q. Cela a entraîné une consommation excessive de mémoire, ce qui a conduit à des erreurs lors de l'exécution du code.\n",
    "\n",
    "Pour résoudre ce problème, il est recommandé d'utiliser un environnement avec plus de ressources mémoire ou de réduire la taille de la grille ou le nombre d'actions possibles. Une autre approche consiste à utiliser une implémentation plus efficace de l'algorithme Q-Learning qui réduit l'utilisation de la mémoire, par exemple en utilisant des approximations de fonctions pour représenter la valeur Q.\n",
    "\n",
    "Dans le cas présent, exécuter le code dans un environnement avec une mémoire plus importante pourrait permettre d'explorer différentes valeurs de gamma et alpha sans rencontrer d'erreurs de mémoire.\n"
   ]
  }
 ],
 "metadata": {
  "kernelspec": {
   "display_name": "Python 3 (ipykernel)",
   "language": "python",
   "name": "python3"
  },
  "language_info": {
   "codemirror_mode": {
    "name": "ipython",
    "version": 3
   },
   "file_extension": ".py",
   "mimetype": "text/x-python",
   "name": "python",
   "nbconvert_exporter": "python",
   "pygments_lexer": "ipython3",
   "version": "3.9.12"
  }
 },
 "nbformat": 4,
 "nbformat_minor": 5
}
